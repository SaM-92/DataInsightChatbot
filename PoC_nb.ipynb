{
 "cells": [
  {
   "cell_type": "code",
   "execution_count": 1,
   "metadata": {},
   "outputs": [],
   "source": [
    "import pandas as pd\n",
    "import os\n",
    "\n",
    "def read_excel_files(folder_path):\n",
    "    \"\"\"\n",
    "    Reads all Excel files in the specified folder into pandas DataFrames.\n",
    "    The DataFrames are stored in a dictionary, keyed by the year or year range.\n",
    "    \n",
    "    Args:\n",
    "    - folder_path (str): The path to the folder containing the Excel files.\n",
    "    \n",
    "    Returns:\n",
    "    - dict: A dictionary where each key is a string representing the year or year range of the data,\n",
    "            and each value is a pandas DataFrame of the data from the corresponding file.\n",
    "    \"\"\"\n",
    "    # Initialize an empty dictionary to store the dataframes\n",
    "    dataframes = {}\n",
    "    \n",
    "    # List all Excel files in the folder\n",
    "    for filename in os.listdir(folder_path):\n",
    "        if filename.endswith('.xlsx'):\n",
    "            # Extract the year or year range from the filename\n",
    "            year_range = filename.replace('System-Data-Qtr-Hourly-', '').replace('.xlsx', '')\n",
    "            # Construct the full path to the file\n",
    "            file_path = os.path.join(folder_path, filename)\n",
    "            # Read the Excel file into a DataFrame\n",
    "            df = pd.read_excel(file_path)\n",
    "            # Store the DataFrame in the dictionary with the year range as the key\n",
    "            dataframes[year_range] = df\n",
    "            \n",
    "    return dataframes\n"
   ]
  },
  {
   "cell_type": "code",
   "execution_count": 2,
   "metadata": {},
   "outputs": [],
   "source": [
    "folder_path = 'data'  # Update this to the correct path if needed\n",
    "dataframes_dict = read_excel_files(folder_path)\n",
    "\n",
    "# Now, you can access each DataFrame using its year or year range as the key, for example:\n",
    "# df_2014_2015 = dataframes_dict['2014-2015']\n"
   ]
  },
  {
   "cell_type": "code",
   "execution_count": null,
   "metadata": {},
   "outputs": [],
   "source": []
  }
 ],
 "metadata": {
  "kernelspec": {
   "display_name": "Python 3",
   "language": "python",
   "name": "python3"
  },
  "language_info": {
   "codemirror_mode": {
    "name": "ipython",
    "version": 3
   },
   "file_extension": ".py",
   "mimetype": "text/x-python",
   "name": "python",
   "nbconvert_exporter": "python",
   "pygments_lexer": "ipython3",
   "version": "3.10.9"
  }
 },
 "nbformat": 4,
 "nbformat_minor": 2
}
