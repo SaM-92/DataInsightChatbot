{
 "cells": [
  {
   "cell_type": "code",
   "execution_count": 2,
   "metadata": {},
   "outputs": [
    {
     "name": "stdout",
     "output_type": "stream",
     "text": [
      "Current Working Directory:  /Users/saeed/Documents/GitHub/ireland_res_chatbot\n"
     ]
    }
   ],
   "source": [
    "import streamlit as st\n",
    "from langchain.chains import LLMChain, SimpleSequentialChain\n",
    "import pandas as pd\n",
    "import sqlite3\n",
    "import os\n",
    "from dotenv import load_dotenv\n",
    "from langchain_community.utilities import SQLDatabase\n",
    "from langchain_community.agent_toolkits import create_sql_agent\n",
    "from langchain_openai import ChatOpenAI\n",
    "from subs.db_connections import connetc_to_irish_db\n",
    "\n",
    "load_dotenv()\n",
    "OPENAI_API_KEY = os.environ[\"OPENAI_API_KEY\"]\n",
    "\n",
    "# Check current working directory.\n",
    "print(\"Current Working Directory: \", os.getcwd())\n",
    "\n",
    "\n",
    "# #llm = ChatOpenAI(model=\"gpt-3.5-turbo\", temperature=0)\n",
    "llm = ChatOpenAI(model=\"gpt-3.5-turbo\", temperature=0)\n",
    "db = connetc_to_irish_db()\n",
    "\n"
   ]
  },
  {
   "cell_type": "code",
   "execution_count": 1,
   "metadata": {},
   "outputs": [],
   "source": [
    "from subs.prompts import *\n",
    "\n",
    "\n",
    "\n",
    "# Example formatted prompt\n",
    "prompt_val = invoke_full_prompt(chain_id=\"chain_1\")\n"
   ]
  },
  {
   "cell_type": "code",
   "execution_count": null,
   "metadata": {},
   "outputs": [],
   "source": [
    "from subs.agent import sql_agent\n",
    "\n",
    "sql_agent( prompt=prompt_val)\n"
   ]
  },
  {
   "cell_type": "code",
   "execution_count": 2,
   "metadata": {},
   "outputs": [
    {
     "name": "stdout",
     "output_type": "stream",
     "text": [
      "System: You are an agent designed to interact with a SQL database.\n",
      "        Given an input question, create a syntactically correct SQLite query to run, then look at the results of the query and return the answer.\n",
      "        Unless the user specifies a specific number of examples they wish to obtain, always limit your query to at most 5 results.\n",
      "        You can order the results by a relevant column to return the most interesting examples in the database.\n",
      "        Query for the relevant columns needed to answer the question comprehensively. \n",
      "        In cases where calculations or comparisons across multiple sectors (such as IE and NI) are required,\n",
      "        ensure to include all necessary columns for these calculations. Prioritize efficiency and relevance in your queries.\n",
      "        You have access to tools for interacting with the database.\n",
      "        Only use the given tools. Only use the information returned by the tools to construct your final answer.\n",
      "\n",
      "        You MUST double check your query before executing it. If you get an error while executing a query, rewrite the query and try again.\n",
      "\n",
      "        DO NOT make any DML statements (INSERT, UPDATE, DELETE, DROP etc.) to the database.\n",
      "\n",
      "        If the question does not seem related to the database, just return \"I don't know\" as the answer.\n",
      "\n",
      "        If the question seeks column names, the entire dataset, or appears designed to extract the dataset indirectly, respond with 'I cannot share these details; however, feel free to ask a specific query.\n",
      "        \n",
      "        Here are some examples of user inputs and their corresponding SQL queries:\n",
      "\n",
      "User input: Can you provide me with the dataset for 2023?\n",
      "SQL query: I cannot share with you this detail; you can, however, ask a specific query related to the data.\n",
      "\n",
      "User input: Can I see the dataset?\n",
      "SQL query: I cannot share with you this detail; you can, however, ask a specific query related to the data.\n",
      "\n",
      "User input: What is the highest System Non-Synchronous Penetration (SNSP) recorded in 2023?\n",
      "SQL query: SELECT MAX(`SNSP`) FROM energy_data WHERE `DateTime` LIKE '2023%';\n",
      "\n",
      "User input: Find the total wind generation for the island of Ireland in February 2023.\n",
      "SQL query: SELECT SUM(`IE Wind Generation` + `NI Wind Generation`) FROM energy_data WHERE `DateTime` LIKE '2023-02%';\n",
      "\n",
      "User input: What columns are there in the energy_data table?\n",
      "SQL query: I cannot share with you this detail; you can, however, ask a specific query related to the data.\n",
      "Human: How many years are there\n"
     ]
    }
   ],
   "source": [
    "# prompt_val.invoke()\n",
    "\n",
    "prompt_val_2 = prompt_val.invoke(\n",
    "    {\n",
    "        \"input\": \"How many years are there\",\n",
    "        \"top_k\": 5,\n",
    "        \"dialect\": \"SQLite\",\n",
    "        \"agent_scratchpad\": [],\n",
    "    }\n",
    ")\n",
    "print(prompt_val_2.to_string())"
   ]
  },
  {
   "cell_type": "code",
   "execution_count": null,
   "metadata": {},
   "outputs": [],
   "source": []
  }
 ],
 "metadata": {
  "kernelspec": {
   "display_name": "base",
   "language": "python",
   "name": "python3"
  },
  "language_info": {
   "codemirror_mode": {
    "name": "ipython",
    "version": 3
   },
   "file_extension": ".py",
   "mimetype": "text/x-python",
   "name": "python",
   "nbconvert_exporter": "python",
   "pygments_lexer": "ipython3",
   "version": "3.10.9"
  }
 },
 "nbformat": 4,
 "nbformat_minor": 2
}
