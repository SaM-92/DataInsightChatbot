{
 "cells": [
  {
   "cell_type": "code",
   "execution_count": 1,
   "metadata": {},
   "outputs": [
    {
     "name": "stdout",
     "output_type": "stream",
     "text": [
      "Current Working Directory:  /Users/saeed/Documents/GitHub/ireland_res_chatbot\n"
     ]
    }
   ],
   "source": [
    "import streamlit as st\n",
    "from langchain.chains import LLMChain, SimpleSequentialChain\n",
    "import pandas as pd\n",
    "import sqlite3\n",
    "import os\n",
    "from dotenv import load_dotenv\n",
    "from langchain_community.utilities import SQLDatabase\n",
    "from langchain_community.agent_toolkits import create_sql_agent\n",
    "from langchain_openai import ChatOpenAI\n",
    "from subs.db_connections import connetc_to_irish_db\n",
    "\n",
    "load_dotenv()\n",
    "OPENAI_API_KEY = os.environ[\"OPENAI_API_KEY\"]\n",
    "\n",
    "# Check current working directory.\n",
    "print(\"Current Working Directory: \", os.getcwd())\n",
    "\n",
    "\n",
    "# #llm = ChatOpenAI(model=\"gpt-3.5-turbo\", temperature=0)\n",
    "llm = ChatOpenAI(model=\"gpt-4-turbo\", temperature=0)\n",
    "db = connetc_to_irish_db()\n",
    "\n"
   ]
  },
  {
   "cell_type": "markdown",
   "metadata": {},
   "source": []
  },
  {
   "cell_type": "code",
   "execution_count": 2,
   "metadata": {},
   "outputs": [],
   "source": [
    "from langchain_core.prompts import (\n",
    "    ChatPromptTemplate,\n",
    "    FewShotPromptTemplate,\n",
    "    MessagesPlaceholder,\n",
    "    PromptTemplate,\n",
    "    SystemMessagePromptTemplate,\n",
    ")\n",
    "from langchain_openai import OpenAIEmbeddings\n",
    "from langchain_core.example_selectors import SemanticSimilarityExampleSelector\n",
    "from langchain_community.vectorstores import FAISS\n",
    "from typing import List\n",
    "from subs.agent import configure_sequential_chain\n",
    "from subs.agent import sql_agent\n",
    "from subs.agent import invoke_full_prompt\n",
    "# Invoke the full prompt for the SQL chain using the provided SQL chain ID\n",
    "\n",
    "\n",
    "prompt_for_sql = invoke_full_prompt(chain_id=\"chain_1\")\n",
    "\n",
    "# Create the SQL agent chain with the generated prompt\n",
    "chain_sql = sql_agent(prompt=prompt_for_sql)\n"
   ]
  },
  {
   "cell_type": "code",
   "execution_count": 3,
   "metadata": {},
   "outputs": [],
   "source": [
    "chain_final = SimpleSequentialChain(\n",
    "        chains=[chain_sql], verbose=True\n",
    "    )"
   ]
  },
  {
   "cell_type": "code",
   "execution_count": 4,
   "metadata": {},
   "outputs": [
    {
     "name": "stderr",
     "output_type": "stream",
     "text": [
      "/Users/saeed/anaconda3/lib/python3.10/site-packages/langchain_core/_api/deprecation.py:117: LangChainDeprecationWarning: The function `run` was deprecated in LangChain 0.1.0 and will be removed in 0.2.0. Use invoke instead.\n",
      "  warn_deprecated(\n"
     ]
    },
    {
     "name": "stdout",
     "output_type": "stream",
     "text": [
      "\n",
      "\n",
      "\u001b[1m> Entering new SimpleSequentialChain chain...\u001b[0m\n",
      "\n",
      "\n",
      "\u001b[1m> Entering new SQL Agent Executor chain...\u001b[0m\n",
      "\u001b[32;1m\u001b[1;3m\n",
      "Invoking: `sql_db_query` with `{'query': \"SELECT strftime('%Y-%m', `DateTime`) AS Month, AVG(`IE Demand`) AS `Average IE Demand` FROM energy_data WHERE `DateTime` >= '2015-01-01 00:00:00' AND `DateTime` < '2025-01-01 00:00:00' GROUP BY Month ORDER BY Month ASC;\"}`\n",
      "\n",
      "\n",
      "\u001b[0m\u001b[36;1m\u001b[1;3m[('2015-01', 3323.087869623661), ('2015-02', 3352.8142447916616), ('2015-03', 3184.1145087483183), ('2015-04', 2957.7474791666623), ('2015-05', 2898.4484946236507), ('2015-06', 2806.4485069444436), ('2015-07', 2781.236945564523), ('2015-08', 2769.942382392474), ('2015-09', 2896.2104687499964), ('2015-10', 3007.328969798656), ('2015-11', 3220.299024305551), ('2015-12', 3230.197284946233), ('2016-01', 3328.0520463709636), ('2016-02', 3386.3305926724097), ('2016-03', 3213.9232234185747), ('2016-04', 3109.8191944444397), ('2016-05', 2903.8071706989213), ('2016-06', 2823.949604166664), ('2016-07', 2833.0419052419365), ('2016-08', 2879.5369892473145), ('2016-09', 2940.703003472218), ('2016-10', 3048.3795771812056), ('2016-11', 3340.1424930555577), ('2016-12', 3303.9006451612886), ('2017-01', 3375.382053091394), ('2017-02', 3419.411097470241), ('2017-03', 3296.834081426644), ('2017-04', 3100.8677361111136), ('2017-05', 2964.3697883064497), ('2017-06', 2938.4634652777822), ('2017-07', 2893.1211525537674), ('2017-08', 2931.8397110215037), ('2017-09', 3059.512486111112), ('2017-10', 3154.635315436235), ('2017-11', 3423.068767361112), ('2017-12', 3465.22146169355), ('2018-01', 3570.0811559139784), ('2018-02', 3621.1534784226205), ('2018-03', 3539.2871096904437), ('2018-04', 3303.978045138886), ('2018-05', 3096.4401041666724), ('2018-06', 3025.206854166668), ('2018-07', 3017.0201041666605), ('2018-08', 3029.4780813172024), ('2018-09', 3125.3247118055524), ('2018-10', 3291.2973120805427), ('2018-11', 3536.7240729166597), ('2018-12', 3458.0474529569838), ('2019-01', 3569.807352150552), ('2019-02', 3558.1852046130953), ('2019-03', 3467.7986978465574), ('2019-04', 3339.56997569445), ('2019-05', 3154.306421370972), ('2019-06', 3043.6768993055557), ('2019-07', 3058.0745094086074), ('2019-08', 3054.7962466397826), ('2019-09', 3137.583503472221), ('2019-10', 3341.718590604031), ('2019-11', 3614.9719999999998), ('2019-12', 3517.650850134401), ('2020-01', 3632.6073487903263), ('2020-02', 3746.0687751436803), ('2020-03', 3529.15021870794), ('2020-04', 3011.867038194441), ('2020-05', 2927.046750672039), ('2020-06', 3021.2052118055553), ('2020-07', 3097.9185349462323), ('2020-08', 3114.3333669354856), ('2020-09', 3245.253256944452), ('2020-10', 3430.166956375832), ('2020-11', 3589.0802222222205), ('2020-12', 3734.9412970430067), ('2021-01', 3751.3161189516127), ('2021-02', 3770.258113839283), ('2021-03', 3614.077681695822), ('2021-04', 3450.6026319444504), ('2021-05', 3359.7629670698993), ('2021-06', 3272.31022569444), ('2021-07', 3301.980796370973), ('2021-08', 3276.884788306458), ('2021-09', 3417.5942986111013), ('2021-10', 3517.357859060397), ('2021-11', 3801.7335555555637), ('2021-12', 3840.847291666657), ('2022-01', 3873.0230477150567), ('2022-02', 3914.295792410726), ('2022-03', 3776.049488559882), ('2022-04', 3572.3871354166704), ('2022-05', 3409.0721404569817), ('2022-06', 3374.89798263889), ('2022-07', 3361.204089381727), ('2022-08', 3376.086344086031), ('2022-09', 3415.314590277768), ('2022-10', 3521.342563758392), ('2022-11', 3786.2648402777822), ('2022-12', 3957.6484845430145), ('2023-01', 3964.7165793010686), ('2023-02', 3895.089561011895), ('2023-03', 3945.7720188425296), ('2023-04', 3670.5492569444473), ('2023-05', 3505.9791969085927), ('2023-06', 3439.0367326388964), ('2023-07', 3406.7330913978526), ('2023-08', 3446.15703293011), ('2023-09', 3566.6314895833293), ('2023-10', 3701.022419463096), ('2023-11', 3986.07444444445), ('2023-12', 4006.1019052419433), ('2024-01', 4222.890016801074), ('2024-02', 4057.1780352011574)]\u001b[0m\u001b[32;1m\u001b[1;3mHere is the average monthly electricity demand in the Republic of Ireland from 2015 to 2024:\n",
      "\n",
      "- **2015**\n",
      "  - January: 3323.09\n",
      "  - February: 3352.81\n",
      "  - March: 3184.11\n",
      "  - April: 2957.75\n",
      "  - May: 2898.45\n",
      "  - June: 2806.45\n",
      "  - July: 2781.24\n",
      "  - August: 2769.94\n",
      "  - September: 2896.21\n",
      "  - October: 3007.33\n",
      "  - November: 3220.30\n",
      "  - December: 3230.20\n",
      "- **2016**\n",
      "  - January: 3328.05\n",
      "  - February: 3386.33\n",
      "  - March: 3213.92\n",
      "  - April: 3109.82\n",
      "  - May: 2903.81\n",
      "  - June: 2823.95\n",
      "  - July: 2833.04\n",
      "  - August: 2879.54\n",
      "  - September: 2940.70\n",
      "  - October: 3048.38\n",
      "  - November: 3340.14\n",
      "  - December: 3303.90\n",
      "- **2017**\n",
      "  - January: 3375.38\n",
      "  - February: 3419.41\n",
      "  - March: 3296.83\n",
      "  - April: 3100.87\n",
      "  - May: 2964.37\n",
      "  - June: 2938.46\n",
      "  - July: 2893.12\n",
      "  - August: 2931.84\n",
      "  - September: 3059.51\n",
      "  - October: 3154.64\n",
      "  - November: 3423.07\n",
      "  - December: 3465.22\n",
      "- **2018**\n",
      "  - January: 3570.08\n",
      "  - February: 3621.15\n",
      "  - March: 3539.29\n",
      "  - April: 3303.98\n",
      "  - May: 3096.44\n",
      "  - June: 3025.21\n",
      "  - July: 3017.02\n",
      "  - August: 3029.48\n",
      "  - September: 3125.32\n",
      "  - October: 3291.30\n",
      "  - November: 3536.72\n",
      "  - December: 3458.05\n",
      "- **2019**\n",
      "  - January: 3569.81\n",
      "  - February: 3558.19\n",
      "  - March: 3467.80\n",
      "  - April: 3339.57\n",
      "  - May: 3154.31\n",
      "  - June: 3043.68\n",
      "  - July: 3058.07\n",
      "  - August: 3054.80\n",
      "  - September: 3137.58\n",
      "  - October: 3341.72\n",
      "  - November: 3615.00\n",
      "  - December: 3517.65\n",
      "- **2020**\n",
      "  - January: 3632.61\n",
      "  - February: 3746.07\n",
      "  - March: 3529.15\n",
      "  - April: 3011.87\n",
      "  - May: 2927.05\n",
      "  - June: 3021.21\n",
      "  - July: 3097.92\n",
      "  - August: 3114.33\n",
      "  - September: 3245.25\n",
      "  - October: 3430.17\n",
      "  - November: 3589.08\n",
      "  - December: 3734.94\n",
      "- **2021**\n",
      "  - January: 3751.32\n",
      "  - February: 3770.26\n",
      "  - March: 3614.08\n",
      "  - April: 3450.60\n",
      "  - May: 3359.76\n",
      "  - June: 3272.31\n",
      "  - July: 3301.98\n",
      "  - August: 3276.88\n",
      "  - September: 3417.59\n",
      "  - October: 3517.36\n",
      "  - November: 3801.73\n",
      "  - December: 3840.85\n",
      "- **2022**\n",
      "  - January: 3873.02\n",
      "  - February: 3914.30\n",
      "  - March: 3776.05\n",
      "  - April: 3572.39\n",
      "  - May: 3409.07\n",
      "  - June: 3374.90\n",
      "  - July: 3361.20\n",
      "  - August: 3376.09\n",
      "  - September: 3415.31\n",
      "  - October: 3521.34\n",
      "  - November: 3786.26\n",
      "  - December: 3957.65\n",
      "- **2023**\n",
      "  - January: 3964.72\n",
      "  - February: 3895.09\n",
      "  - March: 3945.77\n",
      "  - April: 3670.55\n",
      "  - May: 3505.98\n",
      "  - June: 3439.04\n",
      "  - July: 3406.73\n",
      "  - August: 3446.16\n",
      "  - September: 3566.63\n",
      "  - October: 3701.02\n",
      "  - November: 3986.07\n",
      "  - December: 4006.10\n",
      "- **2024**\n",
      "  - January: 4222.89\n",
      "  - February: 4057.18\n",
      "\n",
      "This data represents the average monthly electricity demand in megawatts (MW).\u001b[0m\n",
      "\n",
      "\u001b[1m> Finished chain.\u001b[0m\n",
      "\u001b[36;1m\u001b[1;3mHere is the average monthly electricity demand in the Republic of Ireland from 2015 to 2024:\n",
      "\n",
      "- **2015**\n",
      "  - January: 3323.09\n",
      "  - February: 3352.81\n",
      "  - March: 3184.11\n",
      "  - April: 2957.75\n",
      "  - May: 2898.45\n",
      "  - June: 2806.45\n",
      "  - July: 2781.24\n",
      "  - August: 2769.94\n",
      "  - September: 2896.21\n",
      "  - October: 3007.33\n",
      "  - November: 3220.30\n",
      "  - December: 3230.20\n",
      "- **2016**\n",
      "  - January: 3328.05\n",
      "  - February: 3386.33\n",
      "  - March: 3213.92\n",
      "  - April: 3109.82\n",
      "  - May: 2903.81\n",
      "  - June: 2823.95\n",
      "  - July: 2833.04\n",
      "  - August: 2879.54\n",
      "  - September: 2940.70\n",
      "  - October: 3048.38\n",
      "  - November: 3340.14\n",
      "  - December: 3303.90\n",
      "- **2017**\n",
      "  - January: 3375.38\n",
      "  - February: 3419.41\n",
      "  - March: 3296.83\n",
      "  - April: 3100.87\n",
      "  - May: 2964.37\n",
      "  - June: 2938.46\n",
      "  - July: 2893.12\n",
      "  - August: 2931.84\n",
      "  - September: 3059.51\n",
      "  - October: 3154.64\n",
      "  - November: 3423.07\n",
      "  - December: 3465.22\n",
      "- **2018**\n",
      "  - January: 3570.08\n",
      "  - February: 3621.15\n",
      "  - March: 3539.29\n",
      "  - April: 3303.98\n",
      "  - May: 3096.44\n",
      "  - June: 3025.21\n",
      "  - July: 3017.02\n",
      "  - August: 3029.48\n",
      "  - September: 3125.32\n",
      "  - October: 3291.30\n",
      "  - November: 3536.72\n",
      "  - December: 3458.05\n",
      "- **2019**\n",
      "  - January: 3569.81\n",
      "  - February: 3558.19\n",
      "  - March: 3467.80\n",
      "  - April: 3339.57\n",
      "  - May: 3154.31\n",
      "  - June: 3043.68\n",
      "  - July: 3058.07\n",
      "  - August: 3054.80\n",
      "  - September: 3137.58\n",
      "  - October: 3341.72\n",
      "  - November: 3615.00\n",
      "  - December: 3517.65\n",
      "- **2020**\n",
      "  - January: 3632.61\n",
      "  - February: 3746.07\n",
      "  - March: 3529.15\n",
      "  - April: 3011.87\n",
      "  - May: 2927.05\n",
      "  - June: 3021.21\n",
      "  - July: 3097.92\n",
      "  - August: 3114.33\n",
      "  - September: 3245.25\n",
      "  - October: 3430.17\n",
      "  - November: 3589.08\n",
      "  - December: 3734.94\n",
      "- **2021**\n",
      "  - January: 3751.32\n",
      "  - February: 3770.26\n",
      "  - March: 3614.08\n",
      "  - April: 3450.60\n",
      "  - May: 3359.76\n",
      "  - June: 3272.31\n",
      "  - July: 3301.98\n",
      "  - August: 3276.88\n",
      "  - September: 3417.59\n",
      "  - October: 3517.36\n",
      "  - November: 3801.73\n",
      "  - December: 3840.85\n",
      "- **2022**\n",
      "  - January: 3873.02\n",
      "  - February: 3914.30\n",
      "  - March: 3776.05\n",
      "  - April: 3572.39\n",
      "  - May: 3409.07\n",
      "  - June: 3374.90\n",
      "  - July: 3361.20\n",
      "  - August: 3376.09\n",
      "  - September: 3415.31\n",
      "  - October: 3521.34\n",
      "  - November: 3786.26\n",
      "  - December: 3957.65\n",
      "- **2023**\n",
      "  - January: 3964.72\n",
      "  - February: 3895.09\n",
      "  - March: 3945.77\n",
      "  - April: 3670.55\n",
      "  - May: 3505.98\n",
      "  - June: 3439.04\n",
      "  - July: 3406.73\n",
      "  - August: 3446.16\n",
      "  - September: 3566.63\n",
      "  - October: 3701.02\n",
      "  - November: 3986.07\n",
      "  - December: 4006.10\n",
      "- **2024**\n",
      "  - January: 4222.89\n",
      "  - February: 4057.18\n",
      "\n",
      "This data represents the average monthly electricity demand in megawatts (MW).\u001b[0m\n",
      "\n",
      "\u001b[1m> Finished chain.\u001b[0m\n"
     ]
    }
   ],
   "source": [
    "response_of_chain = chain_final.run(\"Can you tell me about irish demand from 2015 to 2024 averaged per month, preferably in a bar chart?\")"
   ]
  },
  {
   "cell_type": "code",
   "execution_count": 5,
   "metadata": {},
   "outputs": [
    {
     "data": {
      "text/plain": [
       "'Here is the average monthly electricity demand in the Republic of Ireland from 2015 to 2024:\\n\\n- **2015**\\n  - January: 3323.09\\n  - February: 3352.81\\n  - March: 3184.11\\n  - April: 2957.75\\n  - May: 2898.45\\n  - June: 2806.45\\n  - July: 2781.24\\n  - August: 2769.94\\n  - September: 2896.21\\n  - October: 3007.33\\n  - November: 3220.30\\n  - December: 3230.20\\n- **2016**\\n  - January: 3328.05\\n  - February: 3386.33\\n  - March: 3213.92\\n  - April: 3109.82\\n  - May: 2903.81\\n  - June: 2823.95\\n  - July: 2833.04\\n  - August: 2879.54\\n  - September: 2940.70\\n  - October: 3048.38\\n  - November: 3340.14\\n  - December: 3303.90\\n- **2017**\\n  - January: 3375.38\\n  - February: 3419.41\\n  - March: 3296.83\\n  - April: 3100.87\\n  - May: 2964.37\\n  - June: 2938.46\\n  - July: 2893.12\\n  - August: 2931.84\\n  - September: 3059.51\\n  - October: 3154.64\\n  - November: 3423.07\\n  - December: 3465.22\\n- **2018**\\n  - January: 3570.08\\n  - February: 3621.15\\n  - March: 3539.29\\n  - April: 3303.98\\n  - May: 3096.44\\n  - June: 3025.21\\n  - July: 3017.02\\n  - August: 3029.48\\n  - September: 3125.32\\n  - October: 3291.30\\n  - November: 3536.72\\n  - December: 3458.05\\n- **2019**\\n  - January: 3569.81\\n  - February: 3558.19\\n  - March: 3467.80\\n  - April: 3339.57\\n  - May: 3154.31\\n  - June: 3043.68\\n  - July: 3058.07\\n  - August: 3054.80\\n  - September: 3137.58\\n  - October: 3341.72\\n  - November: 3615.00\\n  - December: 3517.65\\n- **2020**\\n  - January: 3632.61\\n  - February: 3746.07\\n  - March: 3529.15\\n  - April: 3011.87\\n  - May: 2927.05\\n  - June: 3021.21\\n  - July: 3097.92\\n  - August: 3114.33\\n  - September: 3245.25\\n  - October: 3430.17\\n  - November: 3589.08\\n  - December: 3734.94\\n- **2021**\\n  - January: 3751.32\\n  - February: 3770.26\\n  - March: 3614.08\\n  - April: 3450.60\\n  - May: 3359.76\\n  - June: 3272.31\\n  - July: 3301.98\\n  - August: 3276.88\\n  - September: 3417.59\\n  - October: 3517.36\\n  - November: 3801.73\\n  - December: 3840.85\\n- **2022**\\n  - January: 3873.02\\n  - February: 3914.30\\n  - March: 3776.05\\n  - April: 3572.39\\n  - May: 3409.07\\n  - June: 3374.90\\n  - July: 3361.20\\n  - August: 3376.09\\n  - September: 3415.31\\n  - October: 3521.34\\n  - November: 3786.26\\n  - December: 3957.65\\n- **2023**\\n  - January: 3964.72\\n  - February: 3895.09\\n  - March: 3945.77\\n  - April: 3670.55\\n  - May: 3505.98\\n  - June: 3439.04\\n  - July: 3406.73\\n  - August: 3446.16\\n  - September: 3566.63\\n  - October: 3701.02\\n  - November: 3986.07\\n  - December: 4006.10\\n- **2024**\\n  - January: 4222.89\\n  - February: 4057.18\\n\\nThis data represents the average monthly electricity demand in megawatts (MW).'"
      ]
     },
     "execution_count": 5,
     "metadata": {},
     "output_type": "execute_result"
    }
   ],
   "source": [
    "response_of_chain"
   ]
  },
  {
   "cell_type": "code",
   "execution_count": 6,
   "metadata": {},
   "outputs": [],
   "source": [
    "user_query = \"Can you tell me about irish demand from 2015 to 2024 averaged per month, preferably in a bar chart?\"\n",
    "plot_data = response_of_chain"
   ]
  },
  {
   "cell_type": "code",
   "execution_count": 55,
   "metadata": {},
   "outputs": [],
   "source": [
    "from langchain.chat_models import ChatOpenAI\n",
    "from langchain.schema import SystemMessage, HumanMessage\n",
    "\n",
    "# Set up the chat model\n",
    "chat = ChatOpenAI(model=\"gpt-4-turbo\", temperature=0)\n",
    "\n",
    "# Define a system message and the user prompt\n",
    "system_message = SystemMessage(content=(\n",
    "    \"You are an expert in generating Python plotting scripts using matplotlib. \"\n",
    "    \"You'll receive a user query and a dataset. Understand the user query to detect the preferred chart type. \"\n",
    "    \"Please handle any `None` values by replacing them with zero before plotting.\"\n",
    "    \"If the query mentions 'bar chart' or 'line chart', use that type. Otherwise, default to a bar chart. \"\n",
    "    \"In bar chart, if multiple data series exist, group the bars for each category to represent the different series side by side. \"\n",
    "    \"Generate a Python script that uses matplotlib to visualize the data with appropriate axis labels, title, and legend.\"\n",
    "    \"The output must contain only the Python code itself to be used in executable with no changes. \"\n",
    "    \"Do not include markdown code fences, additional comments, text, or use the `\\\\n` character explicitly to separate lines.\"\n",
    "))\n",
    "\n",
    "# Provide the user prompt, including the dataset and initial query\n",
    "user_prompt = (\n",
    "    f'Given the user query: \"{user_query}\" and the following dataset:\\n\\n'\n",
    "    f'{plot_data}\\n\\n'\n",
    "    \"Create a Python script to visualize this data with matplotlib. Make sure to detect the correct chart type and apply \"\n",
    "    \"appropriate axis labels, a title, and a legend.\"\n",
    ")\n",
    "\n",
    "# Call the chat model to generate the code\n",
    "messages = [\n",
    "    system_message,\n",
    "    HumanMessage(content=user_prompt)\n",
    "]\n",
    "response = chat(messages)\n",
    "\n",
    "# Extract the generated code from the response\n",
    "generated_code = response.content.strip()\n",
    "\n",
    "\n"
   ]
  },
  {
   "cell_type": "code",
   "execution_count": 59,
   "metadata": {},
   "outputs": [
    {
     "data": {
      "text/plain": [
       "\"import matplotlib.pyplot as plt\\nimport numpy as np\\n\\n# Data\\nyears = ['2015', '2016', '2017', '2018', '2019', '2020', '2021', '2022', '2023', '2024']\\nmonths = ['January', 'February', 'March', 'April', 'May', 'June', 'July', 'August', 'September', 'October', 'November', 'December']\\ndata = {\\n    '2015': [3323.09, 3352.81, 3184.11, 2957.75, 2898.45, 2806.45, 2781.24, 2769.94, 2896.21, 3007.33, 3220.30, 3230.20],\\n    '2016': [3328.05, 3386.33, 3213.92, 3109.82, 2903.81, 2823.95, 2833.04, 2879.54, 2940.70, 3048.38, 3340.14, 3303.90],\\n    '2017': [3375.38, 3419.41, 3296.83, 3100.87, 2964.37, 2938.46, 2893.12, 2931.84, 3059.51, 3154.64, 3423.07, 3465.22],\\n    '2018': [3570.08, 3621.15, 3539.29, 3303.98, 3096.44, 3025.21, 3017.02, 3029.48, 3125.32, 3291.30, 3536.72, 3458.05],\\n    '2019': [3569.81, 3558.19, 3467.80, 3339.57, 3154.31, 3043.68, 3058.07, 3054.80, 3137.58, 3341.72, 3615.00, 3517.65],\\n    '2020': [3632.61, 3746.07, 3529.15, 3011.87, 2927.05, 3021.21, 3097.92, 3114.33, 3245.25, 3430.17, 3589.08, 3734.94],\\n    '2021': [3751.32, 3770.26, 3614.08, 3450.60, 3359.76, 3272.31, 3301.98, 3276.88, 3417.59, 3517.36, 3801.73, 3840.85],\\n    '2022': [3873.02, 3914.30, 3776.05, 3572.39, 3409.07, 3374.90, 3361.20, 3376.09, 3415.31, 3521.34, 3786.26, 3957.65],\\n    '2023': [3964.72, 3895.09, 3945.77, 3670.55, 3505.98, 3439.04, 3406.73, 3446.16, 3566.63, 3701.02, 3986.07, 4006.10],\\n    '2024': [4222.89, 4057.18, None, None, None, None, None, None, None, None, None, None]\\n}\\n\\n# Replace None with zero\\nfor year in data:\\n    data[year] = [0 if v is None else v for v in data[year]]\\n\\n# Prepare data for plotting\\nnum_years = len(years)\\nindex = np.arange(len(months[:2]))  # Only up to February for 2024\\nbar_width = 0.1\\nopacity = 0.8\\n\\n# Plotting\\nfig, ax = plt.subplots(figsize=(12, 8))\\nfor i, year in enumerate(years):\\n    plt.bar(index + i * bar_width, data[year][:len(months[:2])], bar_width, alpha=opacity, label=year)\\n\\n# Labeling\\nplt.xlabel('Month')\\nplt.ylabel('Average Monthly Electricity Demand (MW)')\\nplt.title('Average Monthly Electricity Demand in the Republic of Ireland (2015-2024)')\\nplt.xticks(index + bar_width * num_years / 2, months[:2])\\nplt.legend()\\n\\n# Show plot\\nplt.tight_layout()\\nplt.show()\""
      ]
     },
     "execution_count": 59,
     "metadata": {},
     "output_type": "execute_result"
    }
   ],
   "source": [
    "generated_code"
   ]
  },
  {
   "cell_type": "code",
   "execution_count": 61,
   "metadata": {},
   "outputs": [
    {
     "data": {
      "image/png": "[encoded data removed]",
      "text/plain": [
       "<Figure size 1400x800 with 1 Axes>"
      ]
     },
     "metadata": {},
     "output_type": "display_data"
    },
    {
     "data": {
      "image/png": "[encoded data removed]",
      "text/plain": [
       "<Figure size 1400x800 with 1 Axes>"
      ]
     },
     "metadata": {},
     "output_type": "display_data"
    },
    {
     "data": {
      "image/png": "[encoded data removed]",
      "text/plain": [
       "<Figure size 1200x800 with 1 Axes>"
      ]
     },
     "metadata": {},
     "output_type": "display_data"
    },
    {
     "data": {
      "image/png": "[encoded data removed]",
      "text/plain": [
       "<Figure size 1200x800 with 1 Axes>"
      ]
     },
     "metadata": {},
     "output_type": "display_data"
    },
    {
     "data": {
      "text/plain": [
       "<ExecutionResult object at 174d987c0, execution_count=None error_before_exec=None error_in_exec=None info=<ExecutionInfo object at 174d986d0, raw_cell=\"import matplotlib.pyplot as plt\n",
       "import numpy as np..\" store_history=False silent=False shell_futures=True cell_id=None> result=None>"
      ]
     },
     "execution_count": 61,
     "metadata": {},
     "output_type": "execute_result"
    }
   ],
   "source": [
    "from IPython.core.interactiveshell import InteractiveShell\n",
    "%matplotlib inline\n",
    "\n",
    "# Create an InteractiveShell instance\n",
    "shell = InteractiveShell.instance()\n",
    "\n",
    "# Execute the generated code\n",
    "shell.run_cell(generated_code)"
   ]
  },
  {
   "cell_type": "code",
   "execution_count": 58,
   "metadata": {},
   "outputs": [
    {
     "data": {
      "text/plain": [
       "\"import matplotlib.pyplot as plt\\nimport numpy as np\\n\\n# Data\\nyears = ['2015', '2016', '2017', '2018', '2019', '2020', '2021', '2022', '2023', '2024']\\nmonths = ['January', 'February', 'March', 'April', 'May', 'June', 'July', 'August', 'September', 'October', 'November', 'December']\\ndata = {\\n    '2015': [3323.09, 3352.81, 3184.11, 2957.75, 2898.45, 2806.45, 2781.24, 2769.94, 2896.21, 3007.33, 3220.30, 3230.20],\\n    '2016': [3328.05, 3386.33, 3213.92, 3109.82, 2903.81, 2823.95, 2833.04, 2879.54, 2940.70, 3048.38, 3340.14, 3303.90],\\n    '2017': [3375.38, 3419.41, 3296.83, 3100.87, 2964.37, 2938.46, 2893.12, 2931.84, 3059.51, 3154.64, 3423.07, 3465.22],\\n    '2018': [3570.08, 3621.15, 3539.29, 3303.98, 3096.44, 3025.21, 3017.02, 3029.48, 3125.32, 3291.30, 3536.72, 3458.05],\\n    '2019': [3569.81, 3558.19, 3467.80, 3339.57, 3154.31, 3043.68, 3058.07, 3054.80, 3137.58, 3341.72, 3615.00, 3517.65],\\n    '2020': [3632.61, 3746.07, 3529.15, 3011.87, 2927.05, 3021.21, 3097.92, 3114.33, 3245.25, 3430.17, 3589.08, 3734.94],\\n    '2021': [3751.32, 3770.26, 3614.08, 3450.60, 3359.76, 3272.31, 3301.98, 3276.88, 3417.59, 3517.36, 3801.73, 3840.85],\\n    '2022': [3873.02, 3914.30, 3776.05, 3572.39, 3409.07, 3374.90, 3361.20, 3376.09, 3415.31, 3521.34, 3786.26, 3957.65],\\n    '2023': [3964.72, 3895.09, 3945.77, 3670.55, 3505.98, 3439.04, 3406.73, 3446.16, 3566.63, 3701.02, 3986.07, 4006.10],\\n    '2024': [4222.89, 4057.18, None, None, None, None, None, None, None, None, None, None]\\n}\\n\\n# Replace None with zero\\nfor year in data:\\n    data[year] = [0 if v is None else v for v in data[year]]\\n\\n# Prepare data for plotting\\nnum_years = len(years)\\nindex = np.arange(len(months[:2]))  # Only up to February for 2024\\nbar_width = 0.1\\nopacity = 0.8\\n\\n# Plotting\\nfig, ax = plt.subplots(figsize=(12, 8))\\nfor i, year in enumerate(years):\\n    plt.bar(index + i * bar_width, data[year][:len(months[:2])], bar_width, alpha=opacity, label=year)\\n\\n# Labeling\\nplt.xlabel('Month')\\nplt.ylabel('Average Monthly Electricity Demand (MW)')\\nplt.title('Average Monthly Electricity Demand in the Republic of Ireland (2015-2024)')\\nplt.xticks(index + bar_width * num_years / 2, months[:2])\\nplt.legend()\\n\\n# Show plot\\nplt.tight_layout()\\nplt.show()\""
      ]
     },
     "execution_count": 58,
     "metadata": {},
     "output_type": "execute_result"
    }
   ],
   "source": [
    "generated_code"
   ]
  },
  {
   "cell_type": "code",
   "execution_count": 53,
   "metadata": {},
   "outputs": [],
   "source": [
    "generated_code = ''.join(response.content.strip().split('\\n'))"
   ]
  },
  {
   "cell_type": "code",
   "execution_count": 34,
   "metadata": {},
   "outputs": [],
   "source": [
    "def extract_code_from_markdown(response_content):\n",
    "    \"\"\"\n",
    "    Extracts and returns the Python code between markdown code fences.\n",
    "    \"\"\"\n",
    "    # Find positions of the opening and closing code fences\n",
    "    start = response_content.find(\"```python\")\n",
    "    end = response_content.find(\"```\", start + 7)\n",
    "\n",
    "    # Check if both code fences exist\n",
    "    if start != -1 and end != -1:\n",
    "        return response_content[start + 8:end].strip()\n",
    "    return response_content.strip()\n"
   ]
  },
  {
   "cell_type": "code",
   "execution_count": 45,
   "metadata": {},
   "outputs": [],
   "source": [
    "x = extract_code_from_markdown(generated_code)"
   ]
  },
  {
   "cell_type": "code",
   "execution_count": 49,
   "metadata": {},
   "outputs": [],
   "source": [
    "def clean_python_code(code_str):\n",
    "    \"\"\"\n",
    "    Clean a Python code string by removing unnecessary characters.\n",
    "    \"\"\"\n",
    "    # Remove leading/trailing whitespace and any unwanted initial characters\n",
    "    cleaned_code = code_str.strip()\n",
    "    unwanted_prefixes = [\"n\\\\n\", \"\\\\n\", \"n\\n\", \"\\n\", \"n\", \"n\\\\\", \"rn\", \"r\"]\n",
    "\n",
    "    for prefix in unwanted_prefixes:\n",
    "        if cleaned_code.startswith(prefix):\n",
    "            cleaned_code = cleaned_code[len(prefix):]\n",
    "\n",
    "    return cleaned_code"
   ]
  },
  {
   "cell_type": "code",
   "execution_count": null,
   "metadata": {},
   "outputs": [],
   "source": []
  },
  {
   "cell_type": "code",
   "execution_count": 50,
   "metadata": {},
   "outputs": [],
   "source": [
    "cleaned_code = clean_python_code(x)\n"
   ]
  },
  {
   "cell_type": "code",
   "execution_count": 51,
   "metadata": {},
   "outputs": [
    {
     "data": {
      "text/plain": [
       "\"import matplotlib.pyplot as plt\\nimport numpy as np\\n\\n# Data\\nyears = ['2015', '2016', '2017', '2018', '2019', '2020', '2021', '2022', '2023', '2024']\\nmonths = ['January', 'February', 'March', 'April', 'May', 'June', 'July', 'August', 'September', 'October', 'November', 'December']\\ndemand_data = {\\n    '2015': [3323.09, 3352.81, 3184.11, 2957.75, 2898.45, 2806.45, 2781.24, 2769.94, 2896.21, 3007.33, 3220.30, 3230.20],\\n    '2016': [3328.05, 3386.33, 3213.92, 3109.82, 2903.81, 2823.95, 2833.04, 2879.54, 2940.70, 3048.38, 3340.14, 3303.90],\\n    '2017': [3375.38, 3419.41, 3296.83, 3100.87, 2964.37, 2938.46, 2893.12, 2931.84, 3059.51, 3154.64, 3423.07, 3465.22],\\n    '2018': [3570.08, 3621.15, 3539.29, 3303.98, 3096.44, 3025.21, 3017.02, 3029.48, 3125.32, 3291.30, 3536.72, 3458.05],\\n    '2019': [3569.81, 3558.19, 3467.80, 3339.57, 3154.31, 3043.68, 3058.07, 3054.80, 3137.58, 3341.72, 3615.00, 3517.65],\\n    '2020': [3632.61, 3746.07, 3529.15, 3011.87, 2927.05, 3021.21, 3097.92, 3114.33, 3245.25, 3430.17, 3589.08, 3734.94],\\n    '2021': [3751.32, 3770.26, 3614.08, 3450.60, 3359.76, 3272.31, 3301.98, 3276.88, 3417.59, 3517.36, 3801.73, 3840.85],\\n    '2022': [3873.02, 3914.30, 3776.05, 3572.39, 3409.07, 3374.90, 3361.20, 3376.09, 3415.31, 3521.34, 3786.26, 3957.65],\\n    '2023': [3964.72, 3895.09, 3945.77, 3670.55, 3505.98, 3439.04, 3406.73, 3446.16, 3566.63, 3701.02, 3986.07, 4006.10],\\n    '2024': [4222.89, 4057.18, None, None, None, None, None, None, None, None, None, None]\\n}\\n\\n# Replace None with zero\\nfor year in demand_data:\\n    demand_data[year] = [0 if v is None else v for v in demand_data[year]]\\n\\n# Prepare data for plotting\\nnum_years = len(years)\\nindex = np.arange(len(months[:2]))  # Only up to February for all years including 2024\\nbar_width = 0.1\\nopacity = 0.8\\n\\n# Plotting\\nfig, ax = plt.subplots()\\nfor i, year in enumerate(years):\\n    plt.bar(index + i*bar_width, demand_data[year][:len(index)], bar_width, alpha=opacity, label=year)\\n\\n# Labeling\\nax.set_xlabel('Month')\\nax.set_ylabel('Average Monthly Electricity Demand (MW)')\\nax.set_title('Average Monthly Electricity Demand in the Republic of Ireland (2015-2024)')\\nax.set_xticks(index + bar_width * (num_years / 2))\\nax.set_xticklabels(months[:len(index)])\\nax.legend()\\n\\n# Show plot\\nplt.show()\""
      ]
     },
     "execution_count": 51,
     "metadata": {},
     "output_type": "execute_result"
    }
   ],
   "source": [
    "cleaned_code"
   ]
  },
  {
   "cell_type": "code",
   "execution_count": 27,
   "metadata": {},
   "outputs": [
    {
     "ename": "NameError",
     "evalue": "name 'n' is not defined",
     "output_type": "error",
     "traceback": [
      "\u001b[0;31m---------------------------------------------------------------------------\u001b[0m",
      "\u001b[0;31mNameError\u001b[0m                                 Traceback (most recent call last)",
      "Cell \u001b[0;32mIn[27], line 1\u001b[0m\n\u001b[0;32m----> 1\u001b[0m \u001b[43mexec\u001b[49m\u001b[43m(\u001b[49m\u001b[43mx\u001b[49m\u001b[43m)\u001b[49m\n",
      "File \u001b[0;32m<string>:1\u001b[0m\n",
      "\u001b[0;31mNameError\u001b[0m: name 'n' is not defined"
     ]
    }
   ],
   "source": [
    "exec(x)"
   ]
  },
  {
   "cell_type": "code",
   "execution_count": null,
   "metadata": {},
   "outputs": [],
   "source": [
    "# Print the generated code for review\n",
    "print(generated_code)\n",
    "\n",
    "# Execute the generated code carefully\n",
    "exec(generated_code)"
   ]
  },
  {
   "cell_type": "markdown",
   "metadata": {},
   "source": []
  },
  {
   "cell_type": "code",
   "execution_count": 12,
   "metadata": {},
   "outputs": [
    {
     "data": {
      "text/plain": [
       "'Below is a Python script using `matplotlib` to visualize the average monthly electricity demand in the Republic of Ireland from 2015 to 2024 as a bar chart. The script handles `None` values by replacing them with zero, although the provided dataset does not contain any `None` values.\\n\\n```python\\nimport matplotlib.pyplot as plt\\n\\n# Data for each year\\ndata = {\\n    \"2015\": [3323.09, 3352.81, 3184.11, 2957.75, 2898.45, 2806.45, 2781.24, 2769.94, 2896.21, 3007.33, 3220.30, 3230.20],\\n    \"2016\": [3328.05, 3386.33, 3213.92, 3109.82, 2903.81, 2823.95, 2833.04, 2879.54, 2940.70, 3048.38, 3340.14, 3303.90],\\n    \"2017\": [3375.38, 3419.41, 3296.83, 3100.87, 2964.37, 2938.46, 2893.12, 2931.84, 3059.51, 3154.64, 3423.07, 3465.22],\\n    \"2018\": [3570.08, 3621.15, 3539.29, 3303.98, 3096.44, 3025.21, 3017.02, 3029.48, 3125.32, 3291.30, 3536.72, 3458.05],\\n    \"2019\": [3569.81, 3558.19, 3467.80, 3339.57, 3154.31, 3043.68, 3058.07, 3054.80, 3137.58, 3341.72, 3615.00, 3517.65],\\n    \"2020\": [3632.61, 3746.07, 3529.15, 3011.87, 2927.05, 3021.21, 3097.92, 3114.33, 3245.25, 3430.17, 3589.08, 3734.94],\\n    \"2021\": [3751.32, 3770.26, 3614.08, 3450.60, 3359.76, 3272.31, 3301.98, 3276.88, 3417.59, 3517.36, 3801.73, 3840.85],\\n    \"2022\": [3873.02, 3914.30, 3776.05, 3572.39, 3409.07, 3374.90, 3361.20, 3376.09, 3415.31, 3521.34, 3786.26, 3957.65],\\n    \"2023\": [3964.72, 3895.09, 3945.77, 3670.55, 3505.98, 3439.04, 3406.73, 3446.16, 3566.63, 3701.02, 3986.07, 4006.10],\\n    \"2024\": [4222.89, 4057.18, None, None, None, None, None, None, None, None, None, None]\\n}\\n\\n# Replace None values with zero\\nfor year in data:\\n    data[year] = [0 if x is None else x for x in data[year]]\\n\\n# Months for the x-axis\\nmonths = [\"Jan\", \"Feb\", \"Mar\", \"Apr\", \"May\", \"Jun\", \"Jul\", \"Aug\", \"Sep\", \"Oct\", \"Nov\", \"Dec\"]\\n\\n# Plotting\\nfig, ax = plt.subplots(figsize=(14, 8))\\nwidth = 0.08  # bar width\\n\\nfor i, year in enumerate(data):\\n    ax.bar([x + i * width for x in range(len(months))], data[year], width=width, label=year)\\n\\n# Labeling\\nax.set_xlabel(\\'Month\\')\\nax.set_ylabel(\\'Average Monthly Electricity Demand (MW)\\')\\nax.set_title(\\'Average Monthly Electricity Demand in the Republic of Ireland (2015-2024)\\')\\nax.set_xticks([x + width * (len(data) / 2 - 0.5) for x in range(len(months))])\\nax.set_xticklabels(months)\\nax.legend(title=\"Year\")\\n\\n# Show plot\\nplt.show()\\n```\\n\\nThis script sets up a grouped bar chart where each group represents a month and each bar within a group represents a year. The x-axis labels the months, and the y-axis shows the average monthly electricity demand. Each year\\'s data is represented by a different bar in the group, and the legend distinguishes the years.'"
      ]
     },
     "execution_count": 12,
     "metadata": {},
     "output_type": "execute_result"
    }
   ],
   "source": [
    "generated_code"
   ]
  },
  {
   "cell_type": "code",
   "execution_count": 11,
   "metadata": {},
   "outputs": [
    {
     "name": "stderr",
     "output_type": "stream",
     "text": [
      "/var/folders/n8/5rf_2zc91lx1ffhm5t27hrsw0000gn/T/ipykernel_3424/1048577133.py:40: UserWarning: Matplotlib is currently using agg, which is a non-GUI backend, so cannot show the figure.\n",
      "  plt.show()\n"
     ]
    }
   ],
   "source": [
    "import matplotlib.pyplot as plt\n",
    "\n",
    "# Data for each year\n",
    "data = {\n",
    "    \"2015\": [3323.09, 3352.81, 3184.11, 2957.75, 2898.45, 2806.45, 2781.24, 2769.94, 2896.21, 3007.33, 3220.30, 3230.20],\n",
    "    \"2016\": [3328.05, 3386.33, 3213.92, 3109.82, 2903.81, 2823.95, 2833.04, 2879.54, 2940.70, 3048.38, 3340.14, 3303.90],\n",
    "    \"2017\": [3375.38, 3419.41, 3296.83, 3100.87, 2964.37, 2938.46, 2893.12, 2931.84, 3059.51, 3154.64, 3423.07, 3465.22],\n",
    "    \"2018\": [3570.08, 3621.15, 3539.29, 3303.98, 3096.44, 3025.21, 3017.02, 3029.48, 3125.32, 3291.30, 3536.72, 3458.05],\n",
    "    \"2019\": [3569.81, 3558.19, 3467.80, 3339.57, 3154.31, 3043.68, 3058.07, 3054.80, 3137.58, 3341.72, 3615.00, 3517.65],\n",
    "    \"2020\": [3632.61, 3746.07, 3529.15, 3011.87, 2927.05, 3021.21, 3097.92, 3114.33, 3245.25, 3430.17, 3589.08, 3734.94],\n",
    "    \"2021\": [3751.32, 3770.26, 3614.08, 3450.60, 3359.76, 3272.31, 3301.98, 3276.88, 3417.59, 3517.36, 3801.73, 3840.85],\n",
    "    \"2022\": [3873.02, 3914.30, 3776.05, 3572.39, 3409.07, 3374.90, 3361.20, 3376.09, 3415.31, 3521.34, 3786.26, 3957.65],\n",
    "    \"2023\": [3964.72, 3895.09, 3945.77, 3670.55, 3505.98, 3439.04, 3406.73, 3446.16, 3566.63, 3701.02, 3986.07, 4006.10],\n",
    "    \"2024\": [4222.89, 4057.18, None, None, None, None, None, None, None, None, None, None]\n",
    "}\n",
    "\n",
    "# Replace None values with zero\n",
    "for year in data:\n",
    "    data[year] = [0 if x is None else x for x in data[year]]\n",
    "\n",
    "# Months for the x-axis\n",
    "months = [\"Jan\", \"Feb\", \"Mar\", \"Apr\", \"May\", \"Jun\", \"Jul\", \"Aug\", \"Sep\", \"Oct\", \"Nov\", \"Dec\"]\n",
    "\n",
    "# Plotting\n",
    "fig, ax = plt.subplots(figsize=(14, 8))\n",
    "width = 0.08  # bar width\n",
    "\n",
    "for i, year in enumerate(data):\n",
    "    ax.bar([x + i * width for x in range(len(months))], data[year], width=width, label=year)\n",
    "\n",
    "# Labeling\n",
    "ax.set_xlabel('Month')\n",
    "ax.set_ylabel('Average Monthly Electricity Demand (MW)')\n",
    "ax.set_title('Average Monthly Electricity Demand in the Republic of Ireland (2015-2024)')\n",
    "ax.set_xticks([x + width * (len(data) / 2 - 0.5) for x in range(len(months))])\n",
    "ax.set_xticklabels(months)\n",
    "ax.legend(title=\"Year\")\n",
    "\n",
    "# Show plot\n",
    "plt.show()"
   ]
  },
  {
   "cell_type": "code",
   "execution_count": 7,
   "metadata": {},
   "outputs": [
    {
     "name": "stdout",
     "output_type": "stream",
     "text": [
      "\n",
      "\n",
      "\u001b[1m> Entering new SimpleSequentialChain chain...\u001b[0m\n",
      "\n",
      "\n",
      "\u001b[1m> Entering new SQL Agent Executor chain...\u001b[0m\n",
      "\u001b[32;1m\u001b[1;3m\n",
      "Invoking: `sql_db_query` with `{'query': \"SELECT strftime('%Y-%m', `DateTime`) AS Month, AVG(`IE Demand`) AS `Average IE Demand`, AVG(`NI Demand`) AS `Average NI Demand` FROM energy_data WHERE `DateTime` >= '2015-01-01' AND `DateTime` < '2025-01-01' GROUP BY Month ORDER BY Month\"}`\n",
      "\n",
      "\n",
      "\u001b[0m\u001b[36;1m\u001b[1;3m[('2015-01', 3323.087869623661, 1123.440678763441), ('2015-02', 3352.8142447916616, 1114.2362053571403), ('2015-03', 3184.1145087483183, 1045.7740511440102), ('2015-04', 2957.7474791666623, 942.8233402777795), ('2015-05', 2898.4484946236507, 921.734126344084), ('2015-06', 2806.4485069444436, 888.3936770833336), ('2015-07', 2781.236945564523, 847.0545967741929), ('2015-08', 2769.942382392474, 855.5238155241924), ('2015-09', 2896.2104687499964, 909.3111840277784), ('2015-10', 3007.328969798656, 959.665469798659), ('2015-11', 3220.299024305551, 1031.7736736111108), ('2015-12', 3230.197284946233, 1048.096024865592), ('2016-01', 3328.0520463709636, 1067.7759408602135), ('2016-02', 3386.3305926724097, 1065.7363397988506), ('2016-03', 3213.9232234185747, 976.454333781966), ('2016-04', 3109.8191944444397, 934.9379826388893), ('2016-05', 2903.8071706989213, 852.2210954301071), ('2016-06', 2823.949604166664, 840.9633541666683), ('2016-07', 2833.0419052419365, 827.1241804435505), ('2016-08', 2879.5369892473145, 855.3218209005378), ('2016-09', 2940.703003472218, 897.1336374999997), ('2016-10', 3048.3795771812056, 951.2819734899327), ('2016-11', 3340.1424930555577, 1057.0334430555583), ('2016-12', 3303.9006451612886, 1038.4030749327912), ('2017-01', 3375.382053091394, 1058.8626686827972), ('2017-02', 3419.411097470241, 1053.7136819196414), ('2017-03', 3296.834081426644, 978.3585100942121), ('2017-04', 3100.8677361111136, 878.149850694444), ('2017-05', 2964.3697883064497, 851.1435181451601), ('2017-06', 2938.4634652777822, 848.2299802083327), ('2017-07', 2893.1211525537674, 803.1536817876338), ('2017-08', 2931.8397110215037, 852.6435745967757), ('2017-09', 3059.512486111112, 883.5341743055576), ('2017-10', 3154.635315436235, 904.5253587248326), ('2017-11', 3423.068767361112, 1007.3719562499996), ('2017-12', 3465.22146169355, 1012.9885520833332), ('2018-01', 3570.0811559139784, 1054.8244788306442), ('2018-02', 3621.1534784226205, 1053.270818452383), ('2018-03', 3539.2871096904437, 1019.697034320323), ('2018-04', 3303.978045138886, 905.2181947916662), ('2018-05', 3096.4401041666724, 853.275960685487), ('2018-06', 3025.206854166668, 825.2998086805563), ('2018-07', 3017.0201041666605, 795.4927668010761), ('2018-08', 3029.4780813172024, 833.8676905241939), ('2018-09', 3125.3247118055524, 858.4406062500004), ('2018-10', 3291.2973120805427, 928.359683892619), ('2018-11', 3536.7240729166597, 992.5234836805605), ('2018-12', 3458.0474529569838, 985.0534583333357), ('2019-01', 3569.807352150552, 1027.3128847446228), ('2019-02', 3558.1852046130953, 984.1636365327374), ('2019-03', 3467.7986978465574, 948.0273543068632), ('2019-04', 3339.56997569445, 886.0415944444459), ('2019-05', 3154.306421370972, 862.6287375672027), ('2019-06', 3043.6768993055557, 821.5582111111124), ('2019-07', 3058.0745094086074, 789.2003645833313), ('2019-08', 3054.7962466397826, 799.7656861559138), ('2019-09', 3137.583503472221, 842.3961541666649), ('2019-10', 3341.718590604031, 913.867959060402), ('2019-11', 3614.9719999999998, 992.5653857638879), ('2019-12', 3517.650850134401, 954.1921350806479), ('2020-01', 3632.6073487903263, 975.1325336021512), ('2020-02', 3746.0687751436803, 959.6281440373575), ('2020-03', 3529.15021870794, 908.0437251009415), ('2020-04', 3011.867038194441, 739.2090135416669), ('2020-05', 2927.046750672039, 734.9936710349454), ('2020-06', 3021.2052118055553, 761.3816295138885), ('2020-07', 3097.9185349462323, 777.4845215053779), ('2020-08', 3114.3333669354856, 798.3908605510746), ('2020-09', 3245.253256944452, 837.8106600694457), ('2020-10', 3430.166956375832, 872.3487973154375), ('2020-11', 3589.0802222222205, 931.0667239583327), ('2020-12', 3734.9412970430067, 959.1068051075279), ('2021-01', 3751.3161189516127, 977.4442664650538), ('2021-02', 3770.258113839283, 926.0538095238097), ('2021-03', 3614.077681695822, 889.9039502018841), ('2021-04', 3450.6026319444504, 842.8089260416665), ('2021-05', 3359.7629670698993, 829.2292600806483), ('2021-06', 3272.31022569444, 810.5758267361116), ('2021-07', 3301.980796370973, 810.2393424059135), ('2021-08', 3276.884788306458, 823.1982473118272), ('2021-09', 3417.5942986111013, 858.7890111111116), ('2021-10', 3517.357859060397, 869.9121362416104), ('2021-11', 3801.7335555555637, 932.9081402777757), ('2021-12', 3840.847291666657, 949.7001078629027), ('2022-01', 3873.0230477150567, 962.1081266801077), ('2022-02', 3914.295792410726, 920.6504386160707), ('2022-03', 3776.049488559882, 916.0062742261088), ('2022-04', 3572.3871354166704, 836.8812545138874), ('2022-05', 3409.0721404569817, 800.1370709005365), ('2022-06', 3374.89798263889, 784.9288552083351), ('2022-07', 3361.204089381727, 754.2464835349475), ('2022-08', 3376.086344086031, 774.8345819892492), ('2022-09', 3415.314590277768, 783.7299569444444), ('2022-10', 3521.342563758392, 810.9060271812058), ('2022-11', 3786.2648402777822, 869.1420180555563), ('2022-12', 3957.6484845430145, 929.7432654569901), ('2023-01', 3964.7165793010686, 922.5748692876347), ('2023-02', 3895.089561011895, 905.8615044642868), ('2023-03', 3945.7720188425296, 897.1493206594866), ('2023-04', 3670.5492569444473, 800.6524777777781), ('2023-05', 3505.9791969085927, 772.4202090053766), ('2023-06', 3439.0367326388964, 750.3096173611106), ('2023-07', 3406.7330913978526, 707.8138017473099), ('2023-08', 3446.15703293011, 740.2270325940848), ('2023-09', 3566.6314895833293, 770.7236711805562), ('2023-10', 3701.022419463096, 815.7731174496645), ('2023-11', 3986.07444444445, 897.5122493055553), ('2023-12', 4006.1019052419433, 870.0282637768825), ('2024-01', 4222.890016801074, 940.0924526209674), ('2024-02', 4057.1780352011574, 897.0006806752871)]\u001b[0m\u001b[32;1m\u001b[1;3mHere is the average monthly electricity demand for both the Republic of Ireland (IE) and Northern Ireland (NI) from 2015 to 2024:\n",
      "\n",
      "- **2015-01**: IE: 3323.09, NI: 1123.44\n",
      "- **2015-02**: IE: 3352.81, NI: 1114.24\n",
      "- **2015-03**: IE: 3184.11, NI: 1045.77\n",
      "- **2015-04**: IE: 2957.75, NI: 942.82\n",
      "- **2015-05**: IE: 2898.45, NI: 921.73\n",
      "- **2015-06**: IE: 2806.45, NI: 888.39\n",
      "- **2015-07**: IE: 2781.24, NI: 847.05\n",
      "- **2015-08**: IE: 2769.94, NI: 855.52\n",
      "- **2015-09**: IE: 2896.21, NI: 909.31\n",
      "- **2015-10**: IE: 3007.33, NI: 959.67\n",
      "- **2015-11**: IE: 3220.30, NI: 1031.77\n",
      "- **2015-12**: IE: 3230.20, NI: 1048.10\n",
      "- **2016-01**: IE: 3328.05, NI: 1067.78\n",
      "- **2016-02**: IE: 3386.33, NI: 1065.74\n",
      "- **2016-03**: IE: 3213.92, NI: 976.45\n",
      "- **2016-04**: IE: 3109.82, NI: 934.94\n",
      "- **2016-05**: IE: 2903.81, NI: 852.22\n",
      "- **2016-06**: IE: 2823.95, NI: 840.96\n",
      "- **2016-07**: IE: 2833.04, NI: 827.12\n",
      "- **2016-08**: IE: 2879.54, NI: 855.32\n",
      "- **2016-09**: IE: 2940.70, NI: 897.13\n",
      "- **2016-10**: IE: 3048.38, NI: 951.28\n",
      "- **2016-11**: IE: 3340.14, NI: 1057.03\n",
      "- **2016-12**: IE: 3303.90, NI: 1038.40\n",
      "- **2017-01**: IE: 3375.38, NI: 1058.86\n",
      "- **2017-02**: IE: 3419.41, NI: 1053.71\n",
      "- **2017-03**: IE: 3296.83, NI: 978.36\n",
      "- **2017-04**: IE: 3100.87, NI: 878.15\n",
      "- **2017-05**: IE: 2964.37, NI: 851.14\n",
      "- **2017-06**: IE: 2938.46, NI: 848.23\n",
      "- **2017-07**: IE: 2893.12, NI: 803.15\n",
      "- **2017-08**: IE: 2931.84, NI: 852.64\n",
      "- **2017-09**: IE: 3059.51, NI: 883.53\n",
      "- **2017-10**: IE: 3154.64, NI: 904.53\n",
      "- **2017-11**: IE: 3423.07, NI: 1007.37\n",
      "- **2017-12**: IE: 3465.22, NI: 1012.99\n",
      "- **2018-01**: IE: 3570.08, NI: 1054.82\n",
      "- **2018-02**: IE: 3621.15, NI: 1053.27\n",
      "- **2018-03**: IE: 3539.29, NI: 1019.70\n",
      "- **2018-04**: IE: 3303.98, NI: 905.22\n",
      "- **2018-05**: IE: 3096.44, NI: 853.28\n",
      "- **2018-06**: IE: 3025.21, NI: 825.30\n",
      "- **2018-07**: IE: 3017.02, NI: 795.49\n",
      "- **2018-08**: IE: 3029.48, NI: 833.87\n",
      "- **2018-09**: IE: 3125.32, NI: 858.44\n",
      "- **2018-10**: IE: 3291.30, NI: 928.36\n",
      "- **2018-11**: IE: 3536.72, NI: 992.52\n",
      "- **2018-12**: IE: 3458.05, NI: 985.05\n",
      "- **2019-01**: IE: 3569.81, NI: 1027.31\n",
      "- **2019-02**: IE: 3558.19, NI: 984.16\n",
      "- **2019-03**: IE: 3467.80, NI: 948.03\n",
      "- **2019-04**: IE: 3339.57, NI: 886.04\n",
      "- **2019-05**: IE: 3154.31, NI: 862.63\n",
      "- **2019-06**: IE: 3043.68, NI: 821.56\n",
      "- **2019-07**: IE: 3058.07, NI: 789.20\n",
      "- **2019-08**: IE: 3054.80, NI: 799.77\n",
      "- **2019-09**: IE: 3137.58, NI: 842.40\n",
      "- **2019-10**: IE: 3341.72, NI: 913.87\n",
      "- **2019-11**: IE: 3614.97, NI: 992.57\n",
      "- **2019-12**: IE: 3517.65, NI: 954.19\n",
      "- **2020-01**: IE: 3632.61, NI: 975.13\n",
      "- **2020-02**: IE: 3746.07, NI: 959.63\n",
      "- **2020-03**: IE: 3529.15, NI: 908.04\n",
      "- **2020-04**: IE: 3011.87, NI: 739.21\n",
      "- **2020-05**: IE: 2927.05, NI: 734.99\n",
      "- **2020-06**: IE: 3021.21, NI: 761.38\n",
      "- **2020-07**: IE: 3097.92, NI: 777.48\n",
      "- **2020-08**: IE: 3114.33, NI: 798.39\n",
      "- **2020-09**: IE: 3245.25, NI: 837.81\n",
      "- **2020-10**: IE: 3430.17, NI: 872.35\n",
      "- **2020-11**: IE: 3589.08, NI: 931.07\n",
      "- **2020-12**: IE: 3734.94, NI: 959.11\n",
      "- **2021-01**: IE: 3751.32, NI: 977.44\n",
      "- **2021-02**: IE: 3770.26, NI: 926.05\n",
      "- **2021-03**: IE: 3614.08, NI: 889.90\n",
      "- **2021-04**: IE: 3450.60, NI: 842.81\n",
      "- **2021-05**: IE: 3359.76, NI: 829.23\n",
      "- **2021-06**: IE: 3272.31, NI: 810.58\n",
      "- **2021-07**: IE: 3301.98, NI: 810.24\n",
      "- **2021-08**: IE: 3276.88, NI: 823.20\n",
      "- **2021-09**: IE: 3417.59, NI: 858.79\n",
      "- **2021-10**: IE: 3517.36, NI: 869.91\n",
      "- **2021-11**: IE: 3801.73, NI: 932.91\n",
      "- **2021-12**: IE: 3840.85, NI: 949.70\n",
      "- **2022-01**: IE: 3873.02, NI: 962.11\n",
      "- **2022-02**: IE: 3914.30, NI: 920.65\n",
      "- **2022-03**: IE: 3776.05, NI: 916.01\n",
      "- **2022-04**: IE: 3572.39, NI: 836.88\n",
      "- **2022-05**: IE: 3409.07, NI: 800.14\n",
      "- **2022-06**: IE: 3374.90, NI: 784.93\n",
      "- **2022-07**: IE: 3361.20, NI: 754.25\n",
      "- **2022-08**: IE: 3376.09, NI: 774.83\n",
      "- **2022-09**: IE: 3415.31, NI: 783.73\n",
      "- **2022-10**: IE: 3521.34, NI: 810.91\n",
      "- **2022-11**: IE: 3786.26, NI: 869.14\n",
      "- **2022-12**: IE: 3957.65, NI: 929.74\n",
      "- **2023-01**: IE: 3964.72, NI: 922.57\n",
      "- **2023-02**: IE: 3895.09, NI: 905.86\n",
      "- **2023-03**: IE: 3945.77, NI: 897.15\n",
      "- **2023-04**: IE: 3670.55, NI: 800.65\n",
      "- **2023-05**: IE: 3505.98, NI: 772.42\n",
      "- **2023-06**: IE: 3439.04, NI: 750.31\n",
      "- **2023-07**: IE: 3406.73, NI: 707.81\n",
      "- **2023-08**: IE: 3446.16, NI: 740.23\n",
      "- **2023-09**: IE: 3566.63, NI: 770.72\n",
      "- **2023-10**: IE: 3701.02, NI: 815.77\n",
      "- **2023-11**: IE: 3986.07, NI: 897.51\n",
      "- **2023-12**: IE: 4006.10, NI: 870.03\n",
      "- **2024-01**: IE: 4222.89, NI: 940.09\n",
      "- **2024-02**: IE: 4057.18, NI: 897.00\n",
      "\n",
      "This data provides a comprehensive view of the monthly average electricity demand trends over the specified period.\u001b[0m\n",
      "\n",
      "\u001b[1m> Finished chain.\u001b[0m\n",
      "\u001b[36;1m\u001b[1;3mHere is the average monthly electricity demand for both the Republic of Ireland (IE) and Northern Ireland (NI) from 2015 to 2024:\n",
      "\n",
      "- **2015-01**: IE: 3323.09, NI: 1123.44\n",
      "- **2015-02**: IE: 3352.81, NI: 1114.24\n",
      "- **2015-03**: IE: 3184.11, NI: 1045.77\n",
      "- **2015-04**: IE: 2957.75, NI: 942.82\n",
      "- **2015-05**: IE: 2898.45, NI: 921.73\n",
      "- **2015-06**: IE: 2806.45, NI: 888.39\n",
      "- **2015-07**: IE: 2781.24, NI: 847.05\n",
      "- **2015-08**: IE: 2769.94, NI: 855.52\n",
      "- **2015-09**: IE: 2896.21, NI: 909.31\n",
      "- **2015-10**: IE: 3007.33, NI: 959.67\n",
      "- **2015-11**: IE: 3220.30, NI: 1031.77\n",
      "- **2015-12**: IE: 3230.20, NI: 1048.10\n",
      "- **2016-01**: IE: 3328.05, NI: 1067.78\n",
      "- **2016-02**: IE: 3386.33, NI: 1065.74\n",
      "- **2016-03**: IE: 3213.92, NI: 976.45\n",
      "- **2016-04**: IE: 3109.82, NI: 934.94\n",
      "- **2016-05**: IE: 2903.81, NI: 852.22\n",
      "- **2016-06**: IE: 2823.95, NI: 840.96\n",
      "- **2016-07**: IE: 2833.04, NI: 827.12\n",
      "- **2016-08**: IE: 2879.54, NI: 855.32\n",
      "- **2016-09**: IE: 2940.70, NI: 897.13\n",
      "- **2016-10**: IE: 3048.38, NI: 951.28\n",
      "- **2016-11**: IE: 3340.14, NI: 1057.03\n",
      "- **2016-12**: IE: 3303.90, NI: 1038.40\n",
      "- **2017-01**: IE: 3375.38, NI: 1058.86\n",
      "- **2017-02**: IE: 3419.41, NI: 1053.71\n",
      "- **2017-03**: IE: 3296.83, NI: 978.36\n",
      "- **2017-04**: IE: 3100.87, NI: 878.15\n",
      "- **2017-05**: IE: 2964.37, NI: 851.14\n",
      "- **2017-06**: IE: 2938.46, NI: 848.23\n",
      "- **2017-07**: IE: 2893.12, NI: 803.15\n",
      "- **2017-08**: IE: 2931.84, NI: 852.64\n",
      "- **2017-09**: IE: 3059.51, NI: 883.53\n",
      "- **2017-10**: IE: 3154.64, NI: 904.53\n",
      "- **2017-11**: IE: 3423.07, NI: 1007.37\n",
      "- **2017-12**: IE: 3465.22, NI: 1012.99\n",
      "- **2018-01**: IE: 3570.08, NI: 1054.82\n",
      "- **2018-02**: IE: 3621.15, NI: 1053.27\n",
      "- **2018-03**: IE: 3539.29, NI: 1019.70\n",
      "- **2018-04**: IE: 3303.98, NI: 905.22\n",
      "- **2018-05**: IE: 3096.44, NI: 853.28\n",
      "- **2018-06**: IE: 3025.21, NI: 825.30\n",
      "- **2018-07**: IE: 3017.02, NI: 795.49\n",
      "- **2018-08**: IE: 3029.48, NI: 833.87\n",
      "- **2018-09**: IE: 3125.32, NI: 858.44\n",
      "- **2018-10**: IE: 3291.30, NI: 928.36\n",
      "- **2018-11**: IE: 3536.72, NI: 992.52\n",
      "- **2018-12**: IE: 3458.05, NI: 985.05\n",
      "- **2019-01**: IE: 3569.81, NI: 1027.31\n",
      "- **2019-02**: IE: 3558.19, NI: 984.16\n",
      "- **2019-03**: IE: 3467.80, NI: 948.03\n",
      "- **2019-04**: IE: 3339.57, NI: 886.04\n",
      "- **2019-05**: IE: 3154.31, NI: 862.63\n",
      "- **2019-06**: IE: 3043.68, NI: 821.56\n",
      "- **2019-07**: IE: 3058.07, NI: 789.20\n",
      "- **2019-08**: IE: 3054.80, NI: 799.77\n",
      "- **2019-09**: IE: 3137.58, NI: 842.40\n",
      "- **2019-10**: IE: 3341.72, NI: 913.87\n",
      "- **2019-11**: IE: 3614.97, NI: 992.57\n",
      "- **2019-12**: IE: 3517.65, NI: 954.19\n",
      "- **2020-01**: IE: 3632.61, NI: 975.13\n",
      "- **2020-02**: IE: 3746.07, NI: 959.63\n",
      "- **2020-03**: IE: 3529.15, NI: 908.04\n",
      "- **2020-04**: IE: 3011.87, NI: 739.21\n",
      "- **2020-05**: IE: 2927.05, NI: 734.99\n",
      "- **2020-06**: IE: 3021.21, NI: 761.38\n",
      "- **2020-07**: IE: 3097.92, NI: 777.48\n",
      "- **2020-08**: IE: 3114.33, NI: 798.39\n",
      "- **2020-09**: IE: 3245.25, NI: 837.81\n",
      "- **2020-10**: IE: 3430.17, NI: 872.35\n",
      "- **2020-11**: IE: 3589.08, NI: 931.07\n",
      "- **2020-12**: IE: 3734.94, NI: 959.11\n",
      "- **2021-01**: IE: 3751.32, NI: 977.44\n",
      "- **2021-02**: IE: 3770.26, NI: 926.05\n",
      "- **2021-03**: IE: 3614.08, NI: 889.90\n",
      "- **2021-04**: IE: 3450.60, NI: 842.81\n",
      "- **2021-05**: IE: 3359.76, NI: 829.23\n",
      "- **2021-06**: IE: 3272.31, NI: 810.58\n",
      "- **2021-07**: IE: 3301.98, NI: 810.24\n",
      "- **2021-08**: IE: 3276.88, NI: 823.20\n",
      "- **2021-09**: IE: 3417.59, NI: 858.79\n",
      "- **2021-10**: IE: 3517.36, NI: 869.91\n",
      "- **2021-11**: IE: 3801.73, NI: 932.91\n",
      "- **2021-12**: IE: 3840.85, NI: 949.70\n",
      "- **2022-01**: IE: 3873.02, NI: 962.11\n",
      "- **2022-02**: IE: 3914.30, NI: 920.65\n",
      "- **2022-03**: IE: 3776.05, NI: 916.01\n",
      "- **2022-04**: IE: 3572.39, NI: 836.88\n",
      "- **2022-05**: IE: 3409.07, NI: 800.14\n",
      "- **2022-06**: IE: 3374.90, NI: 784.93\n",
      "- **2022-07**: IE: 3361.20, NI: 754.25\n",
      "- **2022-08**: IE: 3376.09, NI: 774.83\n",
      "- **2022-09**: IE: 3415.31, NI: 783.73\n",
      "- **2022-10**: IE: 3521.34, NI: 810.91\n",
      "- **2022-11**: IE: 3786.26, NI: 869.14\n",
      "- **2022-12**: IE: 3957.65, NI: 929.74\n",
      "- **2023-01**: IE: 3964.72, NI: 922.57\n",
      "- **2023-02**: IE: 3895.09, NI: 905.86\n",
      "- **2023-03**: IE: 3945.77, NI: 897.15\n",
      "- **2023-04**: IE: 3670.55, NI: 800.65\n",
      "- **2023-05**: IE: 3505.98, NI: 772.42\n",
      "- **2023-06**: IE: 3439.04, NI: 750.31\n",
      "- **2023-07**: IE: 3406.73, NI: 707.81\n",
      "- **2023-08**: IE: 3446.16, NI: 740.23\n",
      "- **2023-09**: IE: 3566.63, NI: 770.72\n",
      "- **2023-10**: IE: 3701.02, NI: 815.77\n",
      "- **2023-11**: IE: 3986.07, NI: 897.51\n",
      "- **2023-12**: IE: 4006.10, NI: 870.03\n",
      "- **2024-01**: IE: 4222.89, NI: 940.09\n",
      "- **2024-02**: IE: 4057.18, NI: 897.00\n",
      "\n",
      "This data provides a comprehensive view of the monthly average electricity demand trends over the specified period.\u001b[0m\n",
      "\u001b[33;1m\u001b[1;3m{\n",
      "    \"plot\": {\n",
      "        \"table\": {\n",
      "            \"columns\": [\"Month-Year\", \"IE Demand\", \"NI Demand\"],\n",
      "            \"data\": [\n",
      "                [\"2015-01\", \"3323.09\", \"1123.44\"],\n",
      "                [\"2015-02\", \"3352.81\", \"1114.24\"],\n",
      "                [\"2015-03\", \"3184.11\", \"1045.77\"],\n",
      "                [\"2015-04\", \"2957.75\", \"942.82\"],\n",
      "                [\"2015-05\", \"2898.45\", \"921.73\"],\n",
      "                [\"2015-06\", \"2806.45\", \"888.39\"],\n",
      "                [\"2015-07\", \"2781.24\", \"847.05\"],\n",
      "                [\"2015-08\", \"2769.94\", \"855.52\"],\n",
      "                [\"2015-09\", \"2896.21\", \"909.31\"],\n",
      "                [\"2015-10\", \"3007.33\", \"959.67\"],\n",
      "                [\"2015-11\", \"3220.30\", \"1031.77\"],\n",
      "                [\"2015-12\", \"3230.20\", \"1048.10\"],\n",
      "                [\"2016-01\", \"3328.05\", \"1067.78\"],\n",
      "                [\"2016-02\", \"3386.33\", \"1065.74\"],\n",
      "                [\"2016-03\", \"3213.92\", \"976.45\"],\n",
      "                [\"2016-04\", \"3109.82\", \"934.94\"],\n",
      "                [\"2016-05\", \"2903.81\", \"852.22\"],\n",
      "                [\"2016-06\", \"2823.95\", \"840.96\"],\n",
      "                [\"2016-07\", \"2833.04\", \"827.12\"],\n",
      "                [\"2016-08\", \"2879.54\", \"855.32\"],\n",
      "                [\"2016-09\", \"2940.70\", \"897.13\"],\n",
      "                [\"2016-10\", \"3048.38\", \"951.28\"],\n",
      "                [\"2016-11\", \"3340.14\", \"1057.03\"],\n",
      "                [\"2016-12\", \"3303.90\", \"1038.40\"],\n",
      "                [\"2017-01\", \"3375.38\", \"1058.86\"],\n",
      "                [\"2017-02\", \"3419.41\", \"1053.71\"],\n",
      "                [\"2017-03\", \"3296.83\", \"978.36\"],\n",
      "                [\"2017-04\", \"3100.87\", \"878.15\"],\n",
      "                [\"2017-05\", \"2964.37\", \"851.14\"],\n",
      "                [\"2017-06\", \"2938.46\", \"848.23\"],\n",
      "                [\"2017-07\", \"2893.12\", \"803.15\"],\n",
      "                [\"2017-08\", \"2931.84\", \"852.64\"],\n",
      "                [\"2017-09\", \"3059.51\", \"883.53\"],\n",
      "                [\"2017-10\", \"3154.64\", \"904.53\"],\n",
      "                [\"2017-11\", \"3423.07\", \"1007.37\"],\n",
      "                [\"2017-12\", \"3465.22\", \"1012.99\"],\n",
      "                [\"2018-01\", \"3570.08\", \"1054.82\"],\n",
      "                [\"2018-02\", \"3621.15\", \"1053.27\"],\n",
      "                [\"2018-03\", \"3539.29\", \"1019.70\"],\n",
      "                [\"2018-04\", \"3303.98\", \"905.22\"],\n",
      "                [\"2018-05\", \"3096.44\", \"853.28\"],\n",
      "                [\"2018-06\", \"3025.21\", \"825.30\"],\n",
      "                [\"2018-07\", \"3017.02\", \"795.49\"],\n",
      "                [\"2018-08\", \"3029.48\", \"833.87\"],\n",
      "                [\"2018-09\", \"3125.32\", \"858.44\"],\n",
      "                [\"2018-10\", \"3291.30\", \"928.36\"],\n",
      "                [\"2018-11\", \"3536.72\", \"992.52\"],\n",
      "                [\"2018-12\", \"3458.05\", \"985.05\"],\n",
      "                [\"2019-01\", \"3569.81\", \"1027.31\"],\n",
      "                [\"2019-02\", \"3558.19\", \"984.16\"],\n",
      "                [\"2019-03\", \"3467.80\", \"948.03\"],\n",
      "                [\"2019-04\", \"3339.57\", \"886.04\"],\n",
      "                [\"2019-05\", \"3154.31\", \"862.63\"],\n",
      "                [\"2019-06\", \"3043.68\", \"821.56\"],\n",
      "                [\"2019-07\", \"3058.07\", \"789.20\"],\n",
      "                [\"2019-08\", \"3054.80\", \"799.77\"],\n",
      "                [\"2019-09\", \"3137.58\", \"842.40\"],\n",
      "                [\"2019-10\", \"3341.72\", \"913.87\"],\n",
      "                [\"2019-11\", \"3614.97\", \"992.57\"],\n",
      "                [\"2019-12\", \"3517.65\", \"954.19\"],\n",
      "                [\"2020-01\", \"3632.61\", \"975.13\"],\n",
      "                [\"2020-02\", \"3746.07\", \"959.63\"],\n",
      "                [\"2020-03\", \"3529.15\", \"908.04\"],\n",
      "                [\"2020-04\", \"3011.87\", \"739.21\"],\n",
      "                [\"2020-05\", \"2927.05\", \"734.99\"],\n",
      "                [\"2020-06\", \"3021.21\", \"761.38\"],\n",
      "                [\"2020-07\", \"3097.92\", \"777.48\"],\n",
      "                [\"2020-08\", \"3114.33\", \"798.39\"],\n",
      "                [\"2020-09\", \"3245.25\", \"837.81\"],\n",
      "                [\"2020-10\", \"3430.17\", \"872.35\"],\n",
      "                [\"2020-11\", \"3589.08\", \"931.07\"],\n",
      "                [\"2020-12\", \"3734.94\", \"959.11\"],\n",
      "                [\"2021-01\", \"3751.32\", \"977.44\"],\n",
      "                [\"2021-02\", \"3770.26\", \"926.05\"],\n",
      "                [\"2021-03\", \"3614.08\", \"889.90\"],\n",
      "                [\"2021-04\", \"3450.60\", \"842.81\"],\n",
      "                [\"2021-05\", \"3359.76\", \"829.23\"],\n",
      "                [\"2021-06\", \"3272.31\", \"810.58\"],\n",
      "                [\"2021-07\", \"3301.98\", \"810.24\"],\n",
      "                [\"2021-08\", \"3276.88\", \"823.20\"],\n",
      "                [\"2021-09\", \"3417.59\", \"858.79\"],\n",
      "                [\"2021-10\", \"3517.36\", \"869.91\"],\n",
      "                [\"2021-11\", \"3801.73\", \"932.91\"],\n",
      "                [\"2021-12\", \"3840.85\", \"949.70\"],\n",
      "                [\"2022-01\", \"3873.02\", \"962.11\"],\n",
      "                [\"2022-02\", \"3914.30\", \"920.65\"],\n",
      "                [\"2022-03\", \"3776.05\", \"916.01\"],\n",
      "                [\"2022-04\", \"3572.39\", \"836.88\"],\n",
      "                [\"2022-05\", \"3409.07\", \"800.14\"],\n",
      "                [\"2022-06\", \"3374.90\", \"784.93\"],\n",
      "                [\"2022-07\", \"3361.20\", \"754.25\"],\n",
      "                [\"2022-08\", \"3376.09\", \"774.83\"],\n",
      "                [\"2022-09\", \"3415.31\", \"783.73\"],\n",
      "                [\"2022-10\", \"3521.34\", \"810.91\"],\n",
      "                [\"2022-11\", \"3786.26\", \"869.14\"],\n",
      "                [\"2022-12\", \"3957.65\", \"929.74\"],\n",
      "                [\"2023-01\", \"3964.72\", \"922.57\"],\n",
      "                [\"2023-02\", \"3895.09\", \"905.86\"],\n",
      "                [\"2023-03\", \"3945.77\", \"897.15\"],\n",
      "                [\"2023-04\", \"3670.55\", \"800.65\"],\n",
      "                [\"2023-05\", \"3505.98\", \"772.42\"],\n",
      "                [\"2023-06\", \"3439.04\", \"750.31\"],\n",
      "                [\"2023-07\", \"3406.73\", \"707.81\"],\n",
      "                [\"2023-08\", \"3446.16\", \"740.23\"],\n",
      "                [\"2023-09\", \"3566.63\", \"770.72\"],\n",
      "                [\"2023-10\", \"3701.02\", \"815.77\"],\n",
      "                [\"2023-11\", \"3986.07\", \"897.51\"],\n",
      "                [\"2023-12\", \"4006.10\", \"870.03\"],\n",
      "                [\"2024-01\", \"4222.89\", \"940.09\"],\n",
      "                [\"2024-02\", \"4057.18\", \"897.00\"]\n",
      "            ]\n",
      "        }\n",
      "    },\n",
      "    \"output_of_chain1\": \"Here is the average monthly electricity demand for both the Republic of Ireland (IE) and Northern Ireland (NI) from 2015 to 2024: - 2015-01: IE: 3323.09, NI: 1123.44 - 2015-02: IE: 3352.81, NI: 1114.24 - 2015-03: IE: 3184.11, NI: 1045.77 - 2015-04: IE: 2957.75, NI: 942.82 - 2015-05: IE: 2898.45, NI: 921.73 - 2015-06: IE: 2806.45, NI: 888.39 - 2015-07: IE: 2781.24, NI: 847.05 - 2015-08: IE: 2769.94, NI: 855.52 - 2015-09: IE: 2896.21, NI: 909.31 - 2015-10: IE: 3007.33, NI: 959.67 - 2015-11: IE: 3220.30, NI: 1031.77 - 2015-12: IE: 3230.20, NI: 1048.10 - 2016-01: IE: 3328.05, NI: 1067.78 - 2016-02: IE: 3386.33, NI: 1065.74 - 2016-03: IE: 3213.92, NI: 976.45 - 2016-04: IE: 3109.82, NI: 934.94 - 2016-05: IE: 2903.81, NI: 852.22 - 2016-06: IE: 2823.95, NI: 840.96 - 2016-07: IE: 2833.04, NI: 827.12 - 2016-08: IE: 2879.54, NI: 855.32 - 2016-09: IE: 2940.70, NI: 897.13 - 2016-10: IE: 3048.38, NI: 951.28 - 2016-11: IE: 3340.14, NI: 1057.03 - 2016-12: IE: 3303.90, NI: 1038.40 - 2017-01: IE: 3375.38, NI: 1058.86 - 2017-02: IE: 3419.41, NI: 1053.71 - 2017-03: IE: 3296.83, NI: 978.36 - 2017-04: IE: 3100.87, NI: 878.15 - 2017-05: IE: 2964.37, NI: 851.14 - 2017-06: IE: 2938.46, NI: 848.23 - 2017-07: IE: 2893.12, NI: 803.15 - 2017-08: IE: 2931.84, NI: 852.64 - 2017-09: IE: 3059.51, NI: 883.53 - 2017-10: IE: 3154.64, NI: 904.53 - 2017-11: IE: 3423.07, NI: 1007.37 - 2017-12: IE: 3465.22, NI: 1012.99 - 2018-01: IE: 3570.08, NI: 1054.82 - 2018-02: IE: 3621.15, NI: 1053.27 - 2018-03: IE: 3539.29, NI: 1019.70 - 2018-04: IE: 3303.98, NI: 905.22 - 2018-05: IE: 3096.44, NI: 853.28 - 2018-06: IE: 3025.21, NI: 825.30 - 2018-07: IE: 3017.02, NI: 795.49 - 2018-08: IE: 3029.48, NI: 833.87 - 2018-09: IE: 3125.32, NI: 858.44 - 2018-10: IE: 3291.30, NI: 928.36 - 2018-11: IE: 3536.72, NI: 992.52 - 2018-12: IE: 3458.05, NI: 985.05 - 2019-01: IE: 3569.81, NI: 1027.31 - 2019-02: IE: 3558.19, NI: 984.16 - 2019-03: IE: 3467.80, NI: 948.03 - 2019-04: IE: 3339.57, NI: 886.04 - 2019-05: IE: 3154.31, NI: 862.63 - 2019-06: IE: 3043.68, NI: 821.56 - 2019-07: IE: 3058.07, NI: 789.20 - 2019-08: IE: 3054.80, NI: 799.77 - 2019-09: IE: 3137.58, NI: 842.40 - 2019-10: IE: 3341.72, NI: 913.87 - 2019-11: IE: 3614.97, NI: 992.57 - 2019-12: IE: 3517.65, NI: 954.19 - 2020-01: IE: 3632.61, NI: 975.13 - 2020-02: IE: 3746.07, NI: 959.63 - 2020-03: IE: 3529.15, NI: 908.04 - 2020-04: IE: 3011.87, NI: 739.21 - 2020-05: IE: 2927.05, NI: 734.99 - 2020-06: IE: 3021.21, NI: 761.38 - 2020-07: IE: 3097.92, NI: 777.48 - 2020-08: IE: 3114.33, NI: 798.39 - 2020-09: IE: 3245.25, NI: 837.81 - 2020-10: IE: 3430.17, NI: 872.35 - 2020-11: IE: 3589.08, NI: 931.07 - 2020-12: IE: 3734.94, NI: 959.11 - 2021-01: IE: 3751.32, NI: 977.44 - 2021-02: IE: 3770.26, NI: 926.05 - 2021-03: IE: 3614.08, NI: 889.90 - 2021-04: IE: 3450.60, NI: 842.81 - 2021-05: IE: 3359.76, NI: 829.23 - 2021-06: IE: 3272.31, NI: 810.58 - 2021-07: IE: 3301.98, NI: 810.24 - 2021-08: IE: 3276.88, NI: 823.20 - 2021-09: IE: 3417.59, NI: 858.79 - 2021-10: IE: 3517.36, NI: 869.91 - 2021-11: IE: 3801.73, NI: 932.91 - 2021-12: IE: 3840.85, NI: 949.70 - 2022-01: IE: 3873.02, NI: 962.11 - 2022-02: IE: 3914.30, NI: 920.65 - 2022-03: IE: 3776.05, NI: 916.01 - 2022-04: IE: 3572.39, NI: 836.88 - 2022-05: IE: 3409.07, NI: 800.14 - 2022-06: IE: 3374.90, NI: 784.93 - 2022-07: IE: 3361.20, NI: 754.25 - 2022-08: IE: 3376.09, NI: 774.83 - 2022-09: IE: 3415.31, NI: 783.73 - 2022-10: IE: 3521.34, NI: 810.91 - 2022-11: IE: 3786.26, NI: 869.14 - 2022-12: IE: \u001b[0m\n",
      "\n",
      "\u001b[1m> Finished chain.\u001b[0m\n"
     ]
    }
   ],
   "source": [
    "from subs.agent import configure_sequential_chain\n",
    "from subs.agent import sql_agent\n",
    "chain_Final = configure_sequential_chain(chain_id_sql = \"chain_1\",chain_id_response_plot = \"chain_2\")\n",
    "# chain_Final = configure_sequential_chain(chain_id_sql = \"chain_1\")\n",
    "\n",
    "response_of_chain = chain_Final.run(\"Can you tell me about irish demand from 2015 to 2024 averaged per month, preferably in a bar chart?\")"
   ]
  },
  {
   "cell_type": "code",
   "execution_count": 3,
   "metadata": {},
   "outputs": [
    {
     "data": {
      "text/plain": [
       "'{\\n    \"plot\": {\\n        \"bar\": {\\n            \"columns\": [\"January 2015\", \"February 2015\", \"March 2015\", \"April 2015\", \"May 2015\", \"June 2015\", \"July 2015\", \"August 2015\", \"September 2015\", \"October 2015\", \"November 2015\", \"December 2015\"],\\n            \"data\": [3323.09, 3352.81, 3184.11, 2957.75, 2898.45, 2806.45, 2781.24, 2769.94, 2896.21, 3007.33, 3220.30, 3230.20]\\n        }\\n    },\\n    \"output_of_chain1\": \"Here is the average Irish demand for electricity per month in the year 2015: - January 2015: 3323.09 MW - February 2015: 3352.81 MW - March 2015: 3184.11 MW - April 2015: 2957.75 MW - May 2015: 2898.45 MW - June 2015: 2806.45 MW - July 2015: 2781.24 MW - August 2015: 2769.94 MW - September 2015: 2896.21 MW - October 2015: 3007.33 MW - November 2015: 3220.30 MW - December 2015: 3230.20 MW\"\\n}'"
      ]
     },
     "execution_count": 3,
     "metadata": {},
     "output_type": "execute_result"
    }
   ],
   "source": [
    "response_of_chain"
   ]
  },
  {
   "cell_type": "code",
   "execution_count": 4,
   "metadata": {},
   "outputs": [],
   "source": [
    "import json \n",
    "response_1 = json.dumps(response_of_chain)"
   ]
  },
  {
   "cell_type": "code",
   "execution_count": 5,
   "metadata": {},
   "outputs": [],
   "source": [
    "response_2 = json.loads(response_1)"
   ]
  },
  {
   "cell_type": "code",
   "execution_count": 6,
   "metadata": {},
   "outputs": [
    {
     "data": {
      "text/plain": [
       "'{\\n    \"plot\": {\\n        \"bar\": {\\n            \"columns\": [\"2015-01\", \"2015-02\", \"2015-03\", \"2015-04\", \"2015-05\", \"2015-06\", \"2015-07\", \"2015-08\", \"2015-09\", \"2015-10\", \"2015-11\", \"2015-12\", \"2016-01\", \"2016-02\", \"2016-03\", \"2016-04\", \"2016-05\", \"2016-06\", \"2016-07\", \"2016-08\", \"2016-09\", \"2016-10\", \"2016-11\", \"2016-12\", \"2017-01\", \"2017-02\", \"2017-03\", \"2017-04\", \"2017-05\", \"2017-06\", \"2017-07\", \"2017-08\", \"2017-09\", \"2017-10\", \"2017-11\", \"2017-12\", \"2018-01\", \"2018-02\", \"2018-03\", \"2018-04\", \"2018-05\", \"2018-06\", \"2018-07\", \"2018-08\", \"2018-09\", \"2018-10\", \"2018-11\", \"2018-12\", \"2019-01\", \"2019-02\", \"2019-03\", \"2019-04\", \"2019-05\", \"2019-06\", \"2019-07\", \"2019-08\", \"2019-09\", \"2019-10\", \"2019-11\", \"2019-12\", \"2020-01\", \"2020-02\", \"2020-03\", \"2020-04\", \"2020-05\", \"2020-06\", \"2020-07\", \"2020-08\", \"2020-09\", \"2020-10\", \"2020-11\", \"2020-12\", \"2021-01\", \"2021-02\", \"2021-03\", \"2021-04\", \"2021-05\", \"2021-06\", \"2021-07\", \"2021-08\", \"2021-09\", \"2021-10\", \"2021-11\", \"2021-12\", \"2022-01\", \"2022-02\", \"2022-03\", \"2022-04\", \"2022-05\", \"2022-06\", \"2022-07\", \"2022-08\", \"2022-09\", \"2022-10\", \"2022-11\", \"2022-12\", \"2023-01\", \"2023-02\", \"2023-03\", \"2023-04\", \"2023-05\", \"2023-06\", \"2023-07\", \"2023-08\", \"2023-09\", \"2023-10\", \"2023-11\", \"2023-12\", \"2024-01\", \"2024-02\"],\\n            \"data\": [3323.09, 3352.81, 3184.11, 2957.75, 2898.45, 2806.45, 2781.24, 2769.94, 2896.21, 3007.33, 3220.30, 3230.20, 3328.05, 3386.33, 3213.92, 3109.82, 2903.81, 2823.95, 2833.04, 2879.54, 2940.70, 3048.38, 3340.14, 3303.90, 3375.38, 3419.41, 3296.83, 3100.87, 2964.37, 2938.46, 2893.12, 2931.84, 3059.51, 3154.64, 3423.07, 3465.22, 3570.08, 3621.15, 3539.29, 3303.98, 3096.44, 3025.21, 3017.02, 3029.48, 3125.32, 3291.30, 3536.72, 3458.05, 3569.81, 3558.19, 3467.80, 3339.57, 3154.31, 3043.68, 3058.07, 3054.80, 3137.58, 3341.72, 3614.97, 3517.65, 3632.61, 3746.07, 3529.15, 3011.87, 2927.05, 3021.21, 3097.92, 3114.33, 3245.25, 3430.17, 3589.08, 3734.94, 3751.32, 3770.26, 3614.08, 3450.60, 3359.76, 3272.31, 3301.98, 3276.88, 3417.59, 3517.36, 3801.73, 3840.85, 3873.02, 3914.30, 3776.05, 3572.39, 3409.07, 3374.90, 3361.20, 3376.09, 3415.31, 3521.34, 3786.26, 3957.65, 3964.72, 3895.09, 3945.77, 3670.55, 3505.98, 3439.04, 3406.73, 3446.16, 3566.63, 3701.02, 3986.07, 4006.10, 4222.89, 4057.18]\\n        }\\n    },\\n    \"output_of_chain1\": \"Here is the average Irish electricity demand per month from 2015, presented in a bar chart format:\\\\n\\\\n![Irish Electricity Demand (2015 onwards)](https://quickchart.io/chart?c={type:\\'bar\\',data:{labels:[\\'2015-01\\',\\'2015-02\\',\\'2015-03\\',\\'2015-04\\',\\'2015-05\\',\\'2015-06\\',\\'2015-07\\',\\'2015-08\\',\\'2015-09\\',\\'2015-10\\',\\'2015-11\\',\\'2015-12\\',\\'2016-01\\',\\'2016-02\\',\\'2016-03\\',\\'2016-04\\',\\'2016-05\\',\\'2016-06\\',\\'2016-07\\',\\'2016-08\\',\\'2016-09\\',\\'2016-10\\',\\'2016-11\\',\\'2016-12\\',\\'2017-01\\',\\'2017-02\\',\\'2017-03\\',\\'2017-04\\',\\'2017-05\\',\\'2017-06\\',\\'2017-07\\',\\'2017-08\\',\\'2017-09\\',\\'2017-10\\',\\'2017-11\\',\\'2017-12\\',\\'2018-01\\',\\'2018-02\\',\\'2018-03\\',\\'2018-04\\',\\'2018-05\\',\\'2018-06\\',\\'2018-07\\',\\'2018-08\\',\\'2018-09\\',\\'2018-10\\',\\'2018-11\\',\\'2018-12\\',\\'2019-01\\',\\'2019-02\\',\\'2019-03\\',\\'2019-04\\',\\'2019-05\\',\\'2019-06\\',\\'2019-07\\',\\'2019-08\\',\\'2019-09\\',\\'2019-10\\',\\'2019-11\\',\\'2019-12\\',\\'2020-01\\',\\'2020-02\\',\\'2020-03\\',\\'2020-04\\',\\'2020-05\\',\\'2020-06\\',\\'2020-07\\',\\'2020-08\\',\\'2020-09\\',\\'2020-10\\',\\'2020-11\\',\\'2020-12\\',\\'2021-01\\',\\'2021-02\\',\\'2021-03\\',\\'2021-04\\',\\'2021-05\\',\\'2021-06\\',\\'2021-07\\',\\'2021-08\\',\\'2021-09\\',\\'2021-10\\',\\'2021-11\\',\\'2021-12\\',\\'2022-01\\',\\'2022-02\\',\\'2022-03\\',\\'2022-04\\',\\'2022-05\\',\\'2022-06\\',\\'2022-07\\',\\'2022-08\\',\\'2022-09\\',\\'2022-10\\',\\'2022-11\\',\\'2022-12\\',\\'2023-01\\',\\'2023-02\\',\\'2023-03\\',\\'2023-04\\',\\'2023-05\\',\\'2023-06\\',\\'2023-07\\',\\'2023-08\\',\\'2023-09\\',\\'2023-10\\',\\'2023-11\\',\\'2023-12\\',\\'2024-01\\',\\'2024-02\\'],datasets:[{label:\\'Average IE Demand\\',data:[3323.09,3352.81,3184.11,2957.75,2898.45,2806.45,2781.24,2769.94,2896.21,3007.33,3220.30,3230.20,3328.05,3386.33,3213.92,3109.82,2903.81,2823.95,2833.04,2879.54,2940.70,3048.38,3340.14,3303.90,3375.38,3419.41,3296.83,3100.87,2964.37,2938.46,2893.12,2931.84,3059.51,3154.64,3423.07,3465.22,3570.08,3621.15,3539.29,3303.98,3096.44,3025.21,3017.02,3029.48,3125.32,3291.30,3536.72,3458.05,3569.81,3558.19,3467.80,3339.57,3154.31,3043.68,3058.07,3054.80,3137.58,3341.72,3614.97,3517.65,3632.61,3746.07,3529.15,3011.87,2927.05,3021.21,3097.92,3114.33,3245.25,3430.17,3589.08,3734.94,3751.32,3770.26,3614.08,3450.60,3359.76,3272.31,3301.98,3276.88,3417.59,3517.36,3801.73,3840.85,3873.02,3914.30,3776.05,3572.39,3409.07,3374.90,3361.20,3376.09,3415.31,3521.34,3786.26,3957.65,3964.72,3895.09,3945.77,3670.55,3505.98,3439.04,3406.73,3446.16,3566.63,3701.02,3986.07,4006.10,4222.89,4057.18]}}]})\"\\n}'"
      ]
     },
     "execution_count": 6,
     "metadata": {},
     "output_type": "execute_result"
    }
   ],
   "source": [
    "response_2"
   ]
  },
  {
   "cell_type": "code",
   "execution_count": 7,
   "metadata": {},
   "outputs": [],
   "source": [
    "response_3 = json.loads(response_2)"
   ]
  },
  {
   "cell_type": "code",
   "execution_count": 8,
   "metadata": {},
   "outputs": [
    {
     "data": {
      "text/plain": [
       "{'plot': {'bar': {'columns': ['2015-01',\n",
       "    '2015-02',\n",
       "    '2015-03',\n",
       "    '2015-04',\n",
       "    '2015-05',\n",
       "    '2015-06',\n",
       "    '2015-07',\n",
       "    '2015-08',\n",
       "    '2015-09',\n",
       "    '2015-10',\n",
       "    '2015-11',\n",
       "    '2015-12',\n",
       "    '2016-01',\n",
       "    '2016-02',\n",
       "    '2016-03',\n",
       "    '2016-04',\n",
       "    '2016-05',\n",
       "    '2016-06',\n",
       "    '2016-07',\n",
       "    '2016-08',\n",
       "    '2016-09',\n",
       "    '2016-10',\n",
       "    '2016-11',\n",
       "    '2016-12',\n",
       "    '2017-01',\n",
       "    '2017-02',\n",
       "    '2017-03',\n",
       "    '2017-04',\n",
       "    '2017-05',\n",
       "    '2017-06',\n",
       "    '2017-07',\n",
       "    '2017-08',\n",
       "    '2017-09',\n",
       "    '2017-10',\n",
       "    '2017-11',\n",
       "    '2017-12',\n",
       "    '2018-01',\n",
       "    '2018-02',\n",
       "    '2018-03',\n",
       "    '2018-04',\n",
       "    '2018-05',\n",
       "    '2018-06',\n",
       "    '2018-07',\n",
       "    '2018-08',\n",
       "    '2018-09',\n",
       "    '2018-10',\n",
       "    '2018-11',\n",
       "    '2018-12',\n",
       "    '2019-01',\n",
       "    '2019-02',\n",
       "    '2019-03',\n",
       "    '2019-04',\n",
       "    '2019-05',\n",
       "    '2019-06',\n",
       "    '2019-07',\n",
       "    '2019-08',\n",
       "    '2019-09',\n",
       "    '2019-10',\n",
       "    '2019-11',\n",
       "    '2019-12',\n",
       "    '2020-01',\n",
       "    '2020-02',\n",
       "    '2020-03',\n",
       "    '2020-04',\n",
       "    '2020-05',\n",
       "    '2020-06',\n",
       "    '2020-07',\n",
       "    '2020-08',\n",
       "    '2020-09',\n",
       "    '2020-10',\n",
       "    '2020-11',\n",
       "    '2020-12',\n",
       "    '2021-01',\n",
       "    '2021-02',\n",
       "    '2021-03',\n",
       "    '2021-04',\n",
       "    '2021-05',\n",
       "    '2021-06',\n",
       "    '2021-07',\n",
       "    '2021-08',\n",
       "    '2021-09',\n",
       "    '2021-10',\n",
       "    '2021-11',\n",
       "    '2021-12',\n",
       "    '2022-01',\n",
       "    '2022-02',\n",
       "    '2022-03',\n",
       "    '2022-04',\n",
       "    '2022-05',\n",
       "    '2022-06',\n",
       "    '2022-07',\n",
       "    '2022-08',\n",
       "    '2022-09',\n",
       "    '2022-10',\n",
       "    '2022-11',\n",
       "    '2022-12',\n",
       "    '2023-01',\n",
       "    '2023-02',\n",
       "    '2023-03',\n",
       "    '2023-04',\n",
       "    '2023-05',\n",
       "    '2023-06',\n",
       "    '2023-07',\n",
       "    '2023-08',\n",
       "    '2023-09',\n",
       "    '2023-10',\n",
       "    '2023-11',\n",
       "    '2023-12',\n",
       "    '2024-01',\n",
       "    '2024-02'],\n",
       "   'data': [3323.09,\n",
       "    3352.81,\n",
       "    3184.11,\n",
       "    2957.75,\n",
       "    2898.45,\n",
       "    2806.45,\n",
       "    2781.24,\n",
       "    2769.94,\n",
       "    2896.21,\n",
       "    3007.33,\n",
       "    3220.3,\n",
       "    3230.2,\n",
       "    3328.05,\n",
       "    3386.33,\n",
       "    3213.92,\n",
       "    3109.82,\n",
       "    2903.81,\n",
       "    2823.95,\n",
       "    2833.04,\n",
       "    2879.54,\n",
       "    2940.7,\n",
       "    3048.38,\n",
       "    3340.14,\n",
       "    3303.9,\n",
       "    3375.38,\n",
       "    3419.41,\n",
       "    3296.83,\n",
       "    3100.87,\n",
       "    2964.37,\n",
       "    2938.46,\n",
       "    2893.12,\n",
       "    2931.84,\n",
       "    3059.51,\n",
       "    3154.64,\n",
       "    3423.07,\n",
       "    3465.22,\n",
       "    3570.08,\n",
       "    3621.15,\n",
       "    3539.29,\n",
       "    3303.98,\n",
       "    3096.44,\n",
       "    3025.21,\n",
       "    3017.02,\n",
       "    3029.48,\n",
       "    3125.32,\n",
       "    3291.3,\n",
       "    3536.72,\n",
       "    3458.05,\n",
       "    3569.81,\n",
       "    3558.19,\n",
       "    3467.8,\n",
       "    3339.57,\n",
       "    3154.31,\n",
       "    3043.68,\n",
       "    3058.07,\n",
       "    3054.8,\n",
       "    3137.58,\n",
       "    3341.72,\n",
       "    3614.97,\n",
       "    3517.65,\n",
       "    3632.61,\n",
       "    3746.07,\n",
       "    3529.15,\n",
       "    3011.87,\n",
       "    2927.05,\n",
       "    3021.21,\n",
       "    3097.92,\n",
       "    3114.33,\n",
       "    3245.25,\n",
       "    3430.17,\n",
       "    3589.08,\n",
       "    3734.94,\n",
       "    3751.32,\n",
       "    3770.26,\n",
       "    3614.08,\n",
       "    3450.6,\n",
       "    3359.76,\n",
       "    3272.31,\n",
       "    3301.98,\n",
       "    3276.88,\n",
       "    3417.59,\n",
       "    3517.36,\n",
       "    3801.73,\n",
       "    3840.85,\n",
       "    3873.02,\n",
       "    3914.3,\n",
       "    3776.05,\n",
       "    3572.39,\n",
       "    3409.07,\n",
       "    3374.9,\n",
       "    3361.2,\n",
       "    3376.09,\n",
       "    3415.31,\n",
       "    3521.34,\n",
       "    3786.26,\n",
       "    3957.65,\n",
       "    3964.72,\n",
       "    3895.09,\n",
       "    3945.77,\n",
       "    3670.55,\n",
       "    3505.98,\n",
       "    3439.04,\n",
       "    3406.73,\n",
       "    3446.16,\n",
       "    3566.63,\n",
       "    3701.02,\n",
       "    3986.07,\n",
       "    4006.1,\n",
       "    4222.89,\n",
       "    4057.18]}},\n",
       " 'output_of_chain1': \"Here is the average Irish electricity demand per month from 2015, presented in a bar chart format:\\n\\n![Irish Electricity Demand (2015 onwards)](https://quickchart.io/chart?c={type:'bar',data:{labels:['2015-01','2015-02','2015-03','2015-04','2015-05','2015-06','2015-07','2015-08','2015-09','2015-10','2015-11','2015-12','2016-01','2016-02','2016-03','2016-04','2016-05','2016-06','2016-07','2016-08','2016-09','2016-10','2016-11','2016-12','2017-01','2017-02','2017-03','2017-04','2017-05','2017-06','2017-07','2017-08','2017-09','2017-10','2017-11','2017-12','2018-01','2018-02','2018-03','2018-04','2018-05','2018-06','2018-07','2018-08','2018-09','2018-10','2018-11','2018-12','2019-01','2019-02','2019-03','2019-04','2019-05','2019-06','2019-07','2019-08','2019-09','2019-10','2019-11','2019-12','2020-01','2020-02','2020-03','2020-04','2020-05','2020-06','2020-07','2020-08','2020-09','2020-10','2020-11','2020-12','2021-01','2021-02','2021-03','2021-04','2021-05','2021-06','2021-07','2021-08','2021-09','2021-10','2021-11','2021-12','2022-01','2022-02','2022-03','2022-04','2022-05','2022-06','2022-07','2022-08','2022-09','2022-10','2022-11','2022-12','2023-01','2023-02','2023-03','2023-04','2023-05','2023-06','2023-07','2023-08','2023-09','2023-10','2023-11','2023-12','2024-01','2024-02'],datasets:[{label:'Average IE Demand',data:[3323.09,3352.81,3184.11,2957.75,2898.45,2806.45,2781.24,2769.94,2896.21,3007.33,3220.30,3230.20,3328.05,3386.33,3213.92,3109.82,2903.81,2823.95,2833.04,2879.54,2940.70,3048.38,3340.14,3303.90,3375.38,3419.41,3296.83,3100.87,2964.37,2938.46,2893.12,2931.84,3059.51,3154.64,3423.07,3465.22,3570.08,3621.15,3539.29,3303.98,3096.44,3025.21,3017.02,3029.48,3125.32,3291.30,3536.72,3458.05,3569.81,3558.19,3467.80,3339.57,3154.31,3043.68,3058.07,3054.80,3137.58,3341.72,3614.97,3517.65,3632.61,3746.07,3529.15,3011.87,2927.05,3021.21,3097.92,3114.33,3245.25,3430.17,3589.08,3734.94,3751.32,3770.26,3614.08,3450.60,3359.76,3272.31,3301.98,3276.88,3417.59,3517.36,3801.73,3840.85,3873.02,3914.30,3776.05,3572.39,3409.07,3374.90,3361.20,3376.09,3415.31,3521.34,3786.26,3957.65,3964.72,3895.09,3945.77,3670.55,3505.98,3439.04,3406.73,3446.16,3566.63,3701.02,3986.07,4006.10,4222.89,4057.18]}}]})\"}"
      ]
     },
     "execution_count": 8,
     "metadata": {},
     "output_type": "execute_result"
    }
   ],
   "source": [
    "response_3"
   ]
  },
  {
   "cell_type": "code",
   "execution_count": 4,
   "metadata": {},
   "outputs": [],
   "source": [
    "from subs.post_processing import post_process_chain_response\n",
    "\n",
    "plot_info, prompt_info = post_process_chain_response(response_of_chain)"
   ]
  },
  {
   "cell_type": "code",
   "execution_count": 5,
   "metadata": {},
   "outputs": [
    {
     "data": {
      "text/plain": [
       "{'bar': {'columns': ['January 2015',\n",
       "   'February 2015',\n",
       "   'March 2015',\n",
       "   'April 2015',\n",
       "   'May 2015',\n",
       "   'June 2015',\n",
       "   'July 2015',\n",
       "   'August 2015',\n",
       "   'September 2015',\n",
       "   'October 2015',\n",
       "   'November 2015',\n",
       "   'December 2015'],\n",
       "  'data': [3323.09,\n",
       "   3352.81,\n",
       "   3184.11,\n",
       "   2957.75,\n",
       "   2898.45,\n",
       "   2806.45,\n",
       "   2781.24,\n",
       "   2769.94,\n",
       "   2896.21,\n",
       "   3007.33,\n",
       "   3220.3,\n",
       "   3230.2]}}"
      ]
     },
     "execution_count": 5,
     "metadata": {},
     "output_type": "execute_result"
    }
   ],
   "source": [
    "plot_info"
   ]
  },
  {
   "cell_type": "code",
   "execution_count": 6,
   "metadata": {},
   "outputs": [
    {
     "data": {
      "text/plain": [
       "'Here is the average Irish demand for electricity per month in the year 2015: - January 2015: 3323.09 MW - February 2015: 3352.81 MW - March 2015: 3184.11 MW - April 2015: 2957.75 MW - May 2015: 2898.45 MW - June 2015: 2806.45 MW - July 2015: 2781.24 MW - August 2015: 2769.94 MW - September 2015: 2896.21 MW - October 2015: 3007.33 MW - November 2015: 3220.30 MW - December 2015: 3230.20 MW'"
      ]
     },
     "execution_count": 6,
     "metadata": {},
     "output_type": "execute_result"
    }
   ],
   "source": [
    "prompt_info"
   ]
  },
  {
   "cell_type": "code",
   "execution_count": 5,
   "metadata": {},
   "outputs": [
    {
     "ename": "ValueError",
     "evalue": "All arrays must be of the same length",
     "output_type": "error",
     "traceback": [
      "\u001b[0;31m---------------------------------------------------------------------------\u001b[0m",
      "\u001b[0;31mValueError\u001b[0m                                Traceback (most recent call last)",
      "Cell \u001b[0;32mIn[5], line 3\u001b[0m\n\u001b[1;32m      1\u001b[0m \u001b[38;5;28;01mfrom\u001b[39;00m \u001b[38;5;21;01msubs\u001b[39;00m\u001b[38;5;21;01m.\u001b[39;00m\u001b[38;5;21;01mvisualisation\u001b[39;00m \u001b[38;5;28;01mimport\u001b[39;00m write_response\n\u001b[0;32m----> 3\u001b[0m \u001b[43mwrite_response\u001b[49m\u001b[43m(\u001b[49m\u001b[43mplot_info\u001b[49m\u001b[43m)\u001b[49m\n",
      "File \u001b[0;32m~/Documents/GitHub/ireland_res_chatbot/subs/visualisation.py:30\u001b[0m, in \u001b[0;36mwrite_response\u001b[0;34m(response_dict)\u001b[0m\n\u001b[1;32m     28\u001b[0m \u001b[38;5;28;01mif\u001b[39;00m \u001b[38;5;124m\"\u001b[39m\u001b[38;5;124mline\u001b[39m\u001b[38;5;124m\"\u001b[39m \u001b[38;5;129;01min\u001b[39;00m response_dict:\n\u001b[1;32m     29\u001b[0m     data \u001b[38;5;241m=\u001b[39m response_dict[\u001b[38;5;124m\"\u001b[39m\u001b[38;5;124mline\u001b[39m\u001b[38;5;124m\"\u001b[39m]\n\u001b[0;32m---> 30\u001b[0m     df \u001b[38;5;241m=\u001b[39m \u001b[43mpd\u001b[49m\u001b[38;5;241;43m.\u001b[39;49m\u001b[43mDataFrame\u001b[49m\u001b[43m(\u001b[49m\u001b[43mdata\u001b[49m\u001b[43m)\u001b[49m\n\u001b[1;32m     31\u001b[0m     df\u001b[38;5;241m.\u001b[39mset_index(\u001b[38;5;124m\"\u001b[39m\u001b[38;5;124mcolumns\u001b[39m\u001b[38;5;124m\"\u001b[39m, inplace\u001b[38;5;241m=\u001b[39m\u001b[38;5;28;01mTrue\u001b[39;00m)\n\u001b[1;32m     32\u001b[0m     st\u001b[38;5;241m.\u001b[39mline_chart(df)\n",
      "File \u001b[0;32m~/anaconda3/lib/python3.10/site-packages/pandas/core/frame.py:733\u001b[0m, in \u001b[0;36mDataFrame.__init__\u001b[0;34m(self, data, index, columns, dtype, copy)\u001b[0m\n\u001b[1;32m    727\u001b[0m     mgr \u001b[38;5;241m=\u001b[39m \u001b[38;5;28mself\u001b[39m\u001b[38;5;241m.\u001b[39m_init_mgr(\n\u001b[1;32m    728\u001b[0m         data, axes\u001b[38;5;241m=\u001b[39m{\u001b[38;5;124m\"\u001b[39m\u001b[38;5;124mindex\u001b[39m\u001b[38;5;124m\"\u001b[39m: index, \u001b[38;5;124m\"\u001b[39m\u001b[38;5;124mcolumns\u001b[39m\u001b[38;5;124m\"\u001b[39m: columns}, dtype\u001b[38;5;241m=\u001b[39mdtype, copy\u001b[38;5;241m=\u001b[39mcopy\n\u001b[1;32m    729\u001b[0m     )\n\u001b[1;32m    731\u001b[0m \u001b[38;5;28;01melif\u001b[39;00m \u001b[38;5;28misinstance\u001b[39m(data, \u001b[38;5;28mdict\u001b[39m):\n\u001b[1;32m    732\u001b[0m     \u001b[38;5;66;03m# GH#38939 de facto copy defaults to False only in non-dict cases\u001b[39;00m\n\u001b[0;32m--> 733\u001b[0m     mgr \u001b[38;5;241m=\u001b[39m \u001b[43mdict_to_mgr\u001b[49m\u001b[43m(\u001b[49m\u001b[43mdata\u001b[49m\u001b[43m,\u001b[49m\u001b[43m \u001b[49m\u001b[43mindex\u001b[49m\u001b[43m,\u001b[49m\u001b[43m \u001b[49m\u001b[43mcolumns\u001b[49m\u001b[43m,\u001b[49m\u001b[43m \u001b[49m\u001b[43mdtype\u001b[49m\u001b[38;5;241;43m=\u001b[39;49m\u001b[43mdtype\u001b[49m\u001b[43m,\u001b[49m\u001b[43m \u001b[49m\u001b[43mcopy\u001b[49m\u001b[38;5;241;43m=\u001b[39;49m\u001b[43mcopy\u001b[49m\u001b[43m,\u001b[49m\u001b[43m \u001b[49m\u001b[43mtyp\u001b[49m\u001b[38;5;241;43m=\u001b[39;49m\u001b[43mmanager\u001b[49m\u001b[43m)\u001b[49m\n\u001b[1;32m    734\u001b[0m \u001b[38;5;28;01melif\u001b[39;00m \u001b[38;5;28misinstance\u001b[39m(data, ma\u001b[38;5;241m.\u001b[39mMaskedArray):\n\u001b[1;32m    735\u001b[0m     \u001b[38;5;28;01mfrom\u001b[39;00m \u001b[38;5;21;01mnumpy\u001b[39;00m\u001b[38;5;21;01m.\u001b[39;00m\u001b[38;5;21;01mma\u001b[39;00m \u001b[38;5;28;01mimport\u001b[39;00m mrecords\n",
      "File \u001b[0;32m~/anaconda3/lib/python3.10/site-packages/pandas/core/internals/construction.py:503\u001b[0m, in \u001b[0;36mdict_to_mgr\u001b[0;34m(data, index, columns, dtype, typ, copy)\u001b[0m\n\u001b[1;32m    499\u001b[0m     \u001b[38;5;28;01melse\u001b[39;00m:\n\u001b[1;32m    500\u001b[0m         \u001b[38;5;66;03m# dtype check to exclude e.g. range objects, scalars\u001b[39;00m\n\u001b[1;32m    501\u001b[0m         arrays \u001b[38;5;241m=\u001b[39m [x\u001b[38;5;241m.\u001b[39mcopy() \u001b[38;5;28;01mif\u001b[39;00m \u001b[38;5;28mhasattr\u001b[39m(x, \u001b[38;5;124m\"\u001b[39m\u001b[38;5;124mdtype\u001b[39m\u001b[38;5;124m\"\u001b[39m) \u001b[38;5;28;01melse\u001b[39;00m x \u001b[38;5;28;01mfor\u001b[39;00m x \u001b[38;5;129;01min\u001b[39;00m arrays]\n\u001b[0;32m--> 503\u001b[0m \u001b[38;5;28;01mreturn\u001b[39;00m \u001b[43marrays_to_mgr\u001b[49m\u001b[43m(\u001b[49m\u001b[43marrays\u001b[49m\u001b[43m,\u001b[49m\u001b[43m \u001b[49m\u001b[43mcolumns\u001b[49m\u001b[43m,\u001b[49m\u001b[43m \u001b[49m\u001b[43mindex\u001b[49m\u001b[43m,\u001b[49m\u001b[43m \u001b[49m\u001b[43mdtype\u001b[49m\u001b[38;5;241;43m=\u001b[39;49m\u001b[43mdtype\u001b[49m\u001b[43m,\u001b[49m\u001b[43m \u001b[49m\u001b[43mtyp\u001b[49m\u001b[38;5;241;43m=\u001b[39;49m\u001b[43mtyp\u001b[49m\u001b[43m,\u001b[49m\u001b[43m \u001b[49m\u001b[43mconsolidate\u001b[49m\u001b[38;5;241;43m=\u001b[39;49m\u001b[43mcopy\u001b[49m\u001b[43m)\u001b[49m\n",
      "File \u001b[0;32m~/anaconda3/lib/python3.10/site-packages/pandas/core/internals/construction.py:114\u001b[0m, in \u001b[0;36marrays_to_mgr\u001b[0;34m(arrays, columns, index, dtype, verify_integrity, typ, consolidate)\u001b[0m\n\u001b[1;32m    111\u001b[0m \u001b[38;5;28;01mif\u001b[39;00m verify_integrity:\n\u001b[1;32m    112\u001b[0m     \u001b[38;5;66;03m# figure out the index, if necessary\u001b[39;00m\n\u001b[1;32m    113\u001b[0m     \u001b[38;5;28;01mif\u001b[39;00m index \u001b[38;5;129;01mis\u001b[39;00m \u001b[38;5;28;01mNone\u001b[39;00m:\n\u001b[0;32m--> 114\u001b[0m         index \u001b[38;5;241m=\u001b[39m \u001b[43m_extract_index\u001b[49m\u001b[43m(\u001b[49m\u001b[43marrays\u001b[49m\u001b[43m)\u001b[49m\n\u001b[1;32m    115\u001b[0m     \u001b[38;5;28;01melse\u001b[39;00m:\n\u001b[1;32m    116\u001b[0m         index \u001b[38;5;241m=\u001b[39m ensure_index(index)\n",
      "File \u001b[0;32m~/anaconda3/lib/python3.10/site-packages/pandas/core/internals/construction.py:677\u001b[0m, in \u001b[0;36m_extract_index\u001b[0;34m(data)\u001b[0m\n\u001b[1;32m    675\u001b[0m lengths \u001b[38;5;241m=\u001b[39m \u001b[38;5;28mlist\u001b[39m(\u001b[38;5;28mset\u001b[39m(raw_lengths))\n\u001b[1;32m    676\u001b[0m \u001b[38;5;28;01mif\u001b[39;00m \u001b[38;5;28mlen\u001b[39m(lengths) \u001b[38;5;241m>\u001b[39m \u001b[38;5;241m1\u001b[39m:\n\u001b[0;32m--> 677\u001b[0m     \u001b[38;5;28;01mraise\u001b[39;00m \u001b[38;5;167;01mValueError\u001b[39;00m(\u001b[38;5;124m\"\u001b[39m\u001b[38;5;124mAll arrays must be of the same length\u001b[39m\u001b[38;5;124m\"\u001b[39m)\n\u001b[1;32m    679\u001b[0m \u001b[38;5;28;01mif\u001b[39;00m have_dicts:\n\u001b[1;32m    680\u001b[0m     \u001b[38;5;28;01mraise\u001b[39;00m \u001b[38;5;167;01mValueError\u001b[39;00m(\n\u001b[1;32m    681\u001b[0m         \u001b[38;5;124m\"\u001b[39m\u001b[38;5;124mMixing dicts with non-Series may lead to ambiguous ordering.\u001b[39m\u001b[38;5;124m\"\u001b[39m\n\u001b[1;32m    682\u001b[0m     )\n",
      "\u001b[0;31mValueError\u001b[0m: All arrays must be of the same length"
     ]
    }
   ],
   "source": [
    "from subs.visualisation import write_response\n",
    "\n",
    "write_response(plot_info)"
   ]
  },
  {
   "cell_type": "code",
   "execution_count": 3,
   "metadata": {},
   "outputs": [
    {
     "data": {
      "text/plain": [
       "'The average Irish demand per month from 2015 to 2022 is as follows: - January 2015: 3323.09 - February 2015: 3352.81 - March 2015: 3184.11 - April 2015: 2957.75 - May 2015: 2898.45 - June 2015: 2806.45 - July 2015: 2781.24 - August 2015: 2769.94 - September 2015: 2896.21 - October 2015: 3007.33 - November 2015: 3220.30 - December 2015: 3230.20 - January 2016: 3328.05 - February 2016: 3386.33 - March 2016: 3213.92 - April 2016: 3109.82 - May 2016: 2903.81 - June 2016: 2823.95 - July 2016: 2833.04 - August 2016: 2879.54 - September 2016: 2940.70 - October 2016: 3048.38 - November 2016: 3340.14 - December 2016: 3303.90 - January 2017: 3375.38 - February 2017: 3419.41 - March 2017: 3296.83 - April 2017: 3100.87 - May 2017: 2964.37 - June 2017: 2938.46 - July 2017: 2893.12 - August 2017: 2931.84 - September 2017: 3059.51 - October 2017: 3154.64 - November 2017: 3423.07 - December 2017: 3465.22 - January 2018: 3570.08 - February 2018: 3621.15 - March 2018: 3539.29 - April 2018: 3303.98 - May 2018: 3096.44 - June 2018: 3025.21 - July 2018: 3017.02 - August 2018: 3029.48 - September 2018: 3125.32 - October 2018: 3291.30 - November 2018: 3536.72 - December 2018: 3458.05 - January 2019: 3569.81 - February 2019: 3558.19 - March 2019: 3467.80 - April 2019: 3339.57 - May 2019: 3154.31 - June 2019: 3043.68 - July 2019: 3058.07 - August 2019: 3054.80 - September 2019: 3137.58 - October 2019: 3341.72 - November 2019: 3614.97 - December 2019: 3517.65 - January 2020: 3632.61 - February 2020: 3746.07 - March 2020: 3529.15 - April 2020: 3011.87 - May 2020: 2927.05 - June 2020: 3021.21 - July 2020: 3097.92 - August 2020: 3114.33 - September 2020: 3245.25 - October 2020: 3430.17 - November 2020: 3589.08 - December 2020: 3734.94 - January 2021: 3751.32 - February 2021: 3770.26 - March 2021: 3614.08 - April 2021: 3450.60 - May 2021: 3359.76 - June 2021: 3272.31 - July 2021: 3301.98 - August 2021: 3276.88 - September 2021: 3417.59 - October 2021: 3517.36 - November 2021: 3801.73 - December 2021: 3840.85 - January 2022: 3873.02 - February 2022: 3914.30 - March 2022: 3776.05 - April 2022: 3572.39 - May 2022: 3409.07 - June 2022: 3374.90 - July 2022: 3361.20 - August 2022: 3376.09 - September 2022: 3415.31 - October 2022: 3521.34 - November 2022: 3786.26 - December 2022: 3971.82'"
      ]
     },
     "execution_count": 3,
     "metadata": {},
     "output_type": "execute_result"
    }
   ],
   "source": [
    "prompt_info"
   ]
  },
  {
   "cell_type": "code",
   "execution_count": 11,
   "metadata": {},
   "outputs": [],
   "source": [
    "import json \n",
    "xx= json.dumps(response_of_chain)"
   ]
  },
  {
   "cell_type": "code",
   "execution_count": 3,
   "metadata": {},
   "outputs": [
    {
     "data": {
      "text/plain": [
       "{'bar': {'columns': ['January 2023',\n",
       "   'February 2023',\n",
       "   'March 2023',\n",
       "   'April 2023',\n",
       "   'May 2023',\n",
       "   'June 2023',\n",
       "   'July 2023',\n",
       "   'August 2023',\n",
       "   'September 2023',\n",
       "   'October 2023',\n",
       "   'November 2023',\n",
       "   'December 2023'],\n",
       "  'data': [0.453,\n",
       "   0.456,\n",
       "   0.433,\n",
       "   0.424,\n",
       "   0.367,\n",
       "   0.37,\n",
       "   0.464,\n",
       "   0.456,\n",
       "   0.445,\n",
       "   0.455,\n",
       "   0.479,\n",
       "   0.562]},\n",
       " 'output_of_chain1': 'The average System Non-Synchronous Penetration (SNSP) per month in 2023 is as follows: - January 2023: 0.453 - February 2023: 0.456 - March 2023: 0.433 - April 2023: 0.424 - May 2023: 0.367 - June 2023: 0.370 - July 2023: 0.464 - August 2023: 0.456 - September 2023: 0.445 - October 2023: 0.455 - November 2023: 0.479 - December 2023: 0.562'}"
      ]
     },
     "execution_count": 3,
     "metadata": {},
     "output_type": "execute_result"
    }
   ],
   "source": [
    "import json\n",
    "json.loads(response_of_chain)"
   ]
  },
  {
   "cell_type": "code",
   "execution_count": null,
   "metadata": {},
   "outputs": [],
   "source": [
    "def post_process_chain_response(response_of_chain):\n",
    "\n",
    "    # Convert the response string into a dictionary\n",
    "    response_dict = json.loads(response_of_chain)\n",
    "\n",
    "    # # Access the 'plot' part of the response\n",
    "    plot_info = response_dict[\"plot\"]\n",
    "\n",
    "    # # Access the 'prompt' part of the response\n",
    "    prompt_info = response_dict[\"prompt\"]\n",
    "\n",
    "    return plot_info, prompt_info"
   ]
  },
  {
   "cell_type": "code",
   "execution_count": 3,
   "metadata": {},
   "outputs": [],
   "source": [
    "from subs.post_processing import post_process_chain_response\n",
    "\n",
    "plot_info, prompt_info = post_process_chain_response(response_of_chain)"
   ]
  },
  {
   "cell_type": "code",
   "execution_count": 21,
   "metadata": {},
   "outputs": [],
   "source": [
    "x2= json.loads(xx)"
   ]
  },
  {
   "cell_type": "code",
   "execution_count": 22,
   "metadata": {},
   "outputs": [
    {
     "data": {
      "text/plain": [
       "{'plot': {'bar': {'columns': ['January',\n",
       "    'February',\n",
       "    'March',\n",
       "    'April',\n",
       "    'May',\n",
       "    'June',\n",
       "    'July',\n",
       "    'August',\n",
       "    'September',\n",
       "    'October',\n",
       "    'November',\n",
       "    'December'],\n",
       "   'data': [3323.09,\n",
       "    3352.81,\n",
       "    3184.11,\n",
       "    3265.45,\n",
       "    3421.76,\n",
       "    3540.28,\n",
       "    3652.91,\n",
       "    3784.25,\n",
       "    3852.16,\n",
       "    3721.45,\n",
       "    3786.26,\n",
       "    3971.82]}},\n",
       " 'output_of_chain1': 'The average Irish demand per month from 2015 to 2022 is as follows: - January 2015: 3323.09 - February 2015: 3352.81 - March 2015: 3184.11 - ... - November 2022: 3786.26 - December 2022: 3971.82'}"
      ]
     },
     "execution_count": 22,
     "metadata": {},
     "output_type": "execute_result"
    }
   ],
   "source": [
    "json.loads(x2)"
   ]
  },
  {
   "cell_type": "code",
   "execution_count": 4,
   "metadata": {},
   "outputs": [
    {
     "data": {
      "text/plain": [
       "{'bar': {'columns': ['January',\n",
       "   'February',\n",
       "   'March',\n",
       "   'April',\n",
       "   'May',\n",
       "   'June',\n",
       "   'July',\n",
       "   'August',\n",
       "   'September',\n",
       "   'October',\n",
       "   'November',\n",
       "   'December'],\n",
       "  'data': [3323.09,\n",
       "   3352.81,\n",
       "   3184.11,\n",
       "   3265.45,\n",
       "   3421.76,\n",
       "   3540.28,\n",
       "   3652.91,\n",
       "   3784.25,\n",
       "   3852.16,\n",
       "   3721.45,\n",
       "   3786.26,\n",
       "   3971.82]}}"
      ]
     },
     "execution_count": 4,
     "metadata": {},
     "output_type": "execute_result"
    }
   ],
   "source": [
    "plot_info"
   ]
  },
  {
   "cell_type": "code",
   "execution_count": 8,
   "metadata": {},
   "outputs": [
    {
     "data": {
      "text/plain": [
       "'The average Irish demand per month from 2015 to 2022 is as follows: - January 2015: 3323.09 - February 2015: 3352.81 - March 2015: 3184.11 - ... - November 2022: 3786.26 - December 2022: 3971.82'"
      ]
     },
     "execution_count": 8,
     "metadata": {},
     "output_type": "execute_result"
    }
   ],
   "source": [
    "prompt_info"
   ]
  },
  {
   "cell_type": "code",
   "execution_count": 6,
   "metadata": {},
   "outputs": [
    {
     "name": "stdout",
     "output_type": "stream",
     "text": [
      "\n",
      "\n",
      "\u001b[1m> Entering new SimpleSequentialChain chain...\u001b[0m\n",
      "\n",
      "\n",
      "\u001b[1m> Entering new SQL Agent Executor chain...\u001b[0m\n",
      "\u001b[32;1m\u001b[1;3m\n",
      "Invoking: `sql_db_query` with `{'query': \"SELECT DATE_FORMAT(`DateTime`, '%H') AS Hour, AVG(`IE Wind Generation`) AS `Average IE Wind Generation`, AVG(`NI Wind Generation`) AS `Average NI Wind Generation` FROM energy_data WHERE `DateTime` >= '2022-01-01 00:00:00' AND `DateTime` < '2023-01-01 00:00:00' GROUP BY Hour ORDER BY Hour;\"}`\n",
      "\n",
      "\n",
      "\u001b[0m\u001b[36;1m\u001b[1;3mError: (sqlite3.OperationalError) no such function: DATE_FORMAT\n",
      "[SQL: SELECT DATE_FORMAT(`DateTime`, '%H') AS Hour, AVG(`IE Wind Generation`) AS `Average IE Wind Generation`, AVG(`NI Wind Generation`) AS `Average NI Wind Generation` FROM energy_data WHERE `DateTime` >= '2022-01-01 00:00:00' AND `DateTime` < '2023-01-01 00:00:00' GROUP BY Hour ORDER BY Hour;]\n",
      "(Background on this error at: https://sqlalche.me/e/14/e3q8)\u001b[0m\u001b[32;1m\u001b[1;3m\n",
      "Invoking: `sql_db_query` with `{'query': \"SELECT strftime('%H', `DateTime`) AS Hour, AVG(`IE Wind Generation`) AS `Average IE Wind Generation`, AVG(`NI Wind Generation`) AS `Average NI Wind Generation` FROM energy_data WHERE `DateTime` >= '2022-01-01 00:00:00' AND `DateTime` < '2023-01-01 00:00:00' GROUP BY Hour ORDER BY Hour;\"}`\n",
      "responded: I encountered an error in the query due to the use of the `DATE_FORMAT` function, which is not supported in this database. Let me correct the query and try again.\n",
      "\n",
      "\u001b[0m\u001b[36;1m\u001b[1;3m[('00', 1206.884315068494, 300.21846712328727), ('01', 1191.919082191781, 298.07145753424606), ('02', 1163.70744520548, 287.0561397260275), ('03', 1144.0443424657528, 275.0301643835615), ('04', 1133.7840616438361, 270.4111595890411), ('05', 1138.4898150684924, 278.7638342465752), ('06', 1169.4313698630144, 292.8834541095894), ('07', 1188.4297397260273, 303.42091712328784), ('08', 1185.4030890410959, 305.6252253424658), ('09', 1195.0169657534243, 315.82825342465776), ('10', 1232.9610890410954, 329.0558801369861), ('11', 1282.4424931506821, 338.7626294520542), ('12', 1326.2998424657505, 348.2407356164389), ('13', 1345.286650684931, 349.60392945205507), ('14', 1349.7718219178055, 346.4840452054796), ('15', 1348.9364794520525, 348.41861095890357), ('16', 1347.2038972602736, 351.0321226027399), ('17', 1331.6657739726018, 346.6253828767124), ('18', 1306.6496301369857, 339.7783116438352), ('19', 1276.8297465753426, 331.6518089041094), ('20', 1257.1826232876708, 323.29267123287696), ('21', 1247.6348082191776, 318.08125958904077), ('22', 1227.214561643835, 311.50288082191753), ('23', 1209.5342191780826, 304.7816952054795)]\u001b[0m\u001b[32;1m\u001b[1;3mThe average wind generation for a typical day in Ireland in 2022, broken down by hour, is as follows:\n",
      "\n",
      "- **Hour 00**: Average IE Wind Generation: 1206.88, Average NI Wind Generation: 300.22\n",
      "- **Hour 01**: Average IE Wind Generation: 1191.92, Average NI Wind Generation: 298.07\n",
      "- **Hour 02**: Average IE Wind Generation: 1163.71, Average NI Wind Generation: 287.06\n",
      "- **Hour 03**: Average IE Wind Generation: 1144.04, Average NI Wind Generation: 275.03\n",
      "- **Hour 04**: Average IE Wind Generation: 1133.78, Average NI Wind Generation: 270.41\n",
      "- **Hour 05**: Average IE Wind Generation: 1138.49, Average NI Wind Generation: 278.76\n",
      "- **Hour 06**: Average IE Wind Generation: 1169.43, Average NI Wind Generation: 292.88\n",
      "- **Hour 07**: Average IE Wind Generation: 1188.43, Average NI Wind Generation: 303.42\n",
      "- **Hour 08**: Average IE Wind Generation: 1185.40, Average NI Wind Generation: 305.63\n",
      "- **Hour 09**: Average IE Wind Generation: 1195.02, Average NI Wind Generation: 315.83\n",
      "- **Hour 10**: Average IE Wind Generation: 1232.96, Average NI Wind Generation: 329.06\n",
      "- **Hour 11**: Average IE Wind Generation: 1282.44, Average NI Wind Generation: 338.76\n",
      "- **Hour 12**: Average IE Wind Generation: 1326.30, Average NI Wind Generation: 348.24\n",
      "- **Hour 13**: Average IE Wind Generation: 1345.29, Average NI Wind Generation: 349.60\n",
      "- **Hour 14**: Average IE Wind Generation: 1349.77, Average NI Wind Generation: 346.48\n",
      "- **Hour 15**: Average IE Wind Generation: 1348.94, Average NI Wind Generation: 348.42\n",
      "- **Hour 16**: Average IE Wind Generation: 1347.20, Average NI Wind Generation: 351.03\n",
      "- **Hour 17**: Average IE Wind Generation: 1331.67, Average NI Wind Generation: 346.63\n",
      "- **Hour 18**: Average IE Wind Generation: 1306.65, Average NI Wind Generation: 339.78\n",
      "- **Hour 19**: Average IE Wind Generation: 1276.83, Average NI Wind Generation: 331.65\n",
      "- **Hour 20**: Average IE Wind Generation: 1257.18, Average NI Wind Generation: 323.29\n",
      "- **Hour 21**: Average IE Wind Generation: 1247.63, Average NI Wind Generation: 318.08\n",
      "- **Hour 22**: Average IE Wind Generation: 1227.21, Average NI Wind Generation: 311.50\n",
      "- **Hour 23**: Average IE Wind Generation: 1209.53, Average NI Wind Generation: 304.78\n",
      "\n",
      "These values represent the average wind generation for each hour of a typical day in Ireland in 2022.\u001b[0m\n",
      "\n",
      "\u001b[1m> Finished chain.\u001b[0m\n",
      "\u001b[36;1m\u001b[1;3mThe average wind generation for a typical day in Ireland in 2022, broken down by hour, is as follows:\n",
      "\n",
      "- **Hour 00**: Average IE Wind Generation: 1206.88, Average NI Wind Generation: 300.22\n",
      "- **Hour 01**: Average IE Wind Generation: 1191.92, Average NI Wind Generation: 298.07\n",
      "- **Hour 02**: Average IE Wind Generation: 1163.71, Average NI Wind Generation: 287.06\n",
      "- **Hour 03**: Average IE Wind Generation: 1144.04, Average NI Wind Generation: 275.03\n",
      "- **Hour 04**: Average IE Wind Generation: 1133.78, Average NI Wind Generation: 270.41\n",
      "- **Hour 05**: Average IE Wind Generation: 1138.49, Average NI Wind Generation: 278.76\n",
      "- **Hour 06**: Average IE Wind Generation: 1169.43, Average NI Wind Generation: 292.88\n",
      "- **Hour 07**: Average IE Wind Generation: 1188.43, Average NI Wind Generation: 303.42\n",
      "- **Hour 08**: Average IE Wind Generation: 1185.40, Average NI Wind Generation: 305.63\n",
      "- **Hour 09**: Average IE Wind Generation: 1195.02, Average NI Wind Generation: 315.83\n",
      "- **Hour 10**: Average IE Wind Generation: 1232.96, Average NI Wind Generation: 329.06\n",
      "- **Hour 11**: Average IE Wind Generation: 1282.44, Average NI Wind Generation: 338.76\n",
      "- **Hour 12**: Average IE Wind Generation: 1326.30, Average NI Wind Generation: 348.24\n",
      "- **Hour 13**: Average IE Wind Generation: 1345.29, Average NI Wind Generation: 349.60\n",
      "- **Hour 14**: Average IE Wind Generation: 1349.77, Average NI Wind Generation: 346.48\n",
      "- **Hour 15**: Average IE Wind Generation: 1348.94, Average NI Wind Generation: 348.42\n",
      "- **Hour 16**: Average IE Wind Generation: 1347.20, Average NI Wind Generation: 351.03\n",
      "- **Hour 17**: Average IE Wind Generation: 1331.67, Average NI Wind Generation: 346.63\n",
      "- **Hour 18**: Average IE Wind Generation: 1306.65, Average NI Wind Generation: 339.78\n",
      "- **Hour 19**: Average IE Wind Generation: 1276.83, Average NI Wind Generation: 331.65\n",
      "- **Hour 20**: Average IE Wind Generation: 1257.18, Average NI Wind Generation: 323.29\n",
      "- **Hour 21**: Average IE Wind Generation: 1247.63, Average NI Wind Generation: 318.08\n",
      "- **Hour 22**: Average IE Wind Generation: 1227.21, Average NI Wind Generation: 311.50\n",
      "- **Hour 23**: Average IE Wind Generation: 1209.53, Average NI Wind Generation: 304.78\n",
      "\n",
      "These values represent the average wind generation for each hour of a typical day in Ireland in 2022.\u001b[0m\n",
      "\u001b[33;1m\u001b[1;3m{\n",
      "    \"plot\": {\n",
      "        \"line\": {\n",
      "            \"columns\": [\"Hour 00\", \"Hour 01\", \"Hour 02\", \"Hour 03\", \"Hour 04\", \"Hour 05\", \"Hour 06\", \"Hour 07\", \"Hour 08\", \"Hour 09\", \"Hour 10\", \"Hour 11\", \"Hour 12\", \"Hour 13\", \"Hour 14\", \"Hour 15\", \"Hour 16\", \"Hour 17\", \"Hour 18\", \"Hour 19\", \"Hour 20\", \"Hour 21\", \"Hour 22\", \"Hour 23\"],\n",
      "            \"data\": [1206.88, 1191.92, 1163.71, 1144.04, 1133.78, 1138.49, 1169.43, 1188.43, 1185.40, 1195.02, 1232.96, 1282.44, 1326.30, 1345.29, 1349.77, 1348.94, 1347.20, 1331.67, 1306.65, 1276.83, 1257.18, 1247.63, 1227.21, 1209.53]\n",
      "        }\n",
      "    },\n",
      "    \"output_of_chain1\": \"The average wind generation for a typical day in Ireland in 2022, broken down by hour, is as follows:\\n- **Hour 00**: Average IE Wind Generation: 1206.88, Average NI Wind Generation: 300.22\\n- **Hour 01**: Average IE Wind Generation: 1191.92, Average NI Wind Generation: 298.07\\n- **Hour 02**: Average IE Wind Generation: 1163.71, Average NI Wind Generation: 287.06\\n- **Hour 03**: Average IE Wind Generation: 1144.04, Average NI Wind Generation: 275.03\\n- **Hour 04**: Average IE Wind Generation: 1133.78, Average NI Wind Generation: 270.41\\n- **Hour 05**: Average IE Wind Generation: 1138.49, Average NI Wind Generation: 278.76\\n- **Hour 06**: Average IE Wind Generation: 1169.43, Average NI Wind Generation: 292.88\\n- **Hour 07**: Average IE Wind Generation: 1188.43, Average NI Wind Generation: 303.42\\n- **Hour 08**: Average IE Wind Generation: 1185.40, Average NI Wind Generation: 305.63\\n- **Hour 09**: Average IE Wind Generation: 1195.02, Average NI Wind Generation: 315.83\\n- **Hour 10**: Average IE Wind Generation: 1232.96, Average NI Wind Generation: 329.06\\n- **Hour 11**: Average IE Wind Generation: 1282.44, Average NI Wind Generation: 338.76\\n- **Hour 12**: Average IE Wind Generation: 1326.30, Average NI Wind Generation: 348.24\\n- **Hour 13**: Average IE Wind Generation: 1345.29, Average NI Wind Generation: 349.60\\n- **Hour 14**: Average IE Wind Generation: 1349.77, Average NI Wind Generation: 346.48\\n- **Hour 15**: Average IE Wind Generation: 1348.94, Average NI Wind Generation: 348.42\\n- **Hour 16**: Average IE Wind Generation: 1347.20, Average NI Wind Generation: 351.03\\n- **Hour 17**: Average IE Wind Generation: 1331.67, Average NI Wind Generation: 346.63\\n- **Hour 18**: Average IE Wind Generation: 1306.65, Average NI Wind Generation: 339.78\\n- **Hour 19**: Average IE Wind Generation: 1276.83, Average NI Wind Generation: 331.65\\n- **Hour 20**: Average IE Wind Generation: 1257.18, Average NI Wind Generation: 323.29\\n- **Hour 21**: Average IE Wind Generation: 1247.63, Average NI Wind Generation: 318.08\\n- **Hour 22**: Average IE Wind Generation: 1227.21, Average NI Wind Generation: 311.50\\n- **Hour 23**: Average IE Wind Generation: 1209.53, Average NI Wind Generation: 304.78\"\n",
      "}\u001b[0m\n",
      "\n",
      "\u001b[1m> Finished chain.\u001b[0m\n"
     ]
    }
   ],
   "source": [
    "import pandas as pd\n",
    "import os\n",
    "from dotenv import load_dotenv\n",
    "from subs.agent import configure_sequential_chain\n",
    "from subs.post_processing import post_process_chain_response\n",
    "from subs.visualisation import write_response\n",
    "\n",
    "query = \"what is the average wind generation for a typical day in ireland both ie and ni in 2022, broken down by hour,\"\n",
    "\n",
    "\n",
    "chain_Final = configure_sequential_chain(\n",
    "    chain_id_sql=\"chain_1\", chain_id_response_plot=\"chain_2\"\n",
    ")\n",
    "\n",
    "\n",
    "response_of_chain = chain_Final.run(query)\n"
   ]
  },
  {
   "cell_type": "code",
   "execution_count": 7,
   "metadata": {},
   "outputs": [],
   "source": [
    "import json\n",
    "response_1 = json.dumps(response_of_chain)\n",
    "\n",
    "response_2 = json.loads(response_1)\n",
    "\n",
    "response_3 = json.loads(response_2)\n"
   ]
  },
  {
   "cell_type": "code",
   "execution_count": 10,
   "metadata": {},
   "outputs": [
    {
     "data": {
      "text/plain": [
       "'{\\n    \"plot\": {\\n        \"line\": {\\n            \"columns\": [\"Hour 00\", \"Hour 01\", \"Hour 02\", \"Hour 03\", \"Hour 04\", \"Hour 05\", \"Hour 06\", \"Hour 07\", \"Hour 08\", \"Hour 09\", \"Hour 10\", \"Hour 11\", \"Hour 12\", \"Hour 13\", \"Hour 14\", \"Hour 15\", \"Hour 16\", \"Hour 17\", \"Hour 18\", \"Hour 19\", \"Hour 20\", \"Hour 21\", \"Hour 22\", \"Hour 23\"],\\n            \"data\": [1206.88, 1191.92, 1163.71, 1144.04, 1133.78, 1138.49, 1169.43, 1188.43, 1185.40, 1195.02, 1232.96, 1282.44, 1326.30, 1345.29, 1349.77, 1348.94, 1347.20, 1331.67, 1306.65, 1276.83, 1257.18, 1247.63, 1227.21, 1209.53]\\n        }\\n    },\\n    \"output_of_chain1\": \"The average wind generation for a typical day in Ireland in 2022, broken down by hour, is as follows:\\\\n- **Hour 00**: Average IE Wind Generation: 1206.88, Average NI Wind Generation: 300.22\\\\n- **Hour 01**: Average IE Wind Generation: 1191.92, Average NI Wind Generation: 298.07\\\\n- **Hour 02**: Average IE Wind Generation: 1163.71, Average NI Wind Generation: 287.06\\\\n- **Hour 03**: Average IE Wind Generation: 1144.04, Average NI Wind Generation: 275.03\\\\n- **Hour 04**: Average IE Wind Generation: 1133.78, Average NI Wind Generation: 270.41\\\\n- **Hour 05**: Average IE Wind Generation: 1138.49, Average NI Wind Generation: 278.76\\\\n- **Hour 06**: Average IE Wind Generation: 1169.43, Average NI Wind Generation: 292.88\\\\n- **Hour 07**: Average IE Wind Generation: 1188.43, Average NI Wind Generation: 303.42\\\\n- **Hour 08**: Average IE Wind Generation: 1185.40, Average NI Wind Generation: 305.63\\\\n- **Hour 09**: Average IE Wind Generation: 1195.02, Average NI Wind Generation: 315.83\\\\n- **Hour 10**: Average IE Wind Generation: 1232.96, Average NI Wind Generation: 329.06\\\\n- **Hour 11**: Average IE Wind Generation: 1282.44, Average NI Wind Generation: 338.76\\\\n- **Hour 12**: Average IE Wind Generation: 1326.30, Average NI Wind Generation: 348.24\\\\n- **Hour 13**: Average IE Wind Generation: 1345.29, Average NI Wind Generation: 349.60\\\\n- **Hour 14**: Average IE Wind Generation: 1349.77, Average NI Wind Generation: 346.48\\\\n- **Hour 15**: Average IE Wind Generation: 1348.94, Average NI Wind Generation: 348.42\\\\n- **Hour 16**: Average IE Wind Generation: 1347.20, Average NI Wind Generation: 351.03\\\\n- **Hour 17**: Average IE Wind Generation: 1331.67, Average NI Wind Generation: 346.63\\\\n- **Hour 18**: Average IE Wind Generation: 1306.65, Average NI Wind Generation: 339.78\\\\n- **Hour 19**: Average IE Wind Generation: 1276.83, Average NI Wind Generation: 331.65\\\\n- **Hour 20**: Average IE Wind Generation: 1257.18, Average NI Wind Generation: 323.29\\\\n- **Hour 21**: Average IE Wind Generation: 1247.63, Average NI Wind Generation: 318.08\\\\n- **Hour 22**: Average IE Wind Generation: 1227.21, Average NI Wind Generation: 311.50\\\\n- **Hour 23**: Average IE Wind Generation: 1209.53, Average NI Wind Generation: 304.78\"\\n}'"
      ]
     },
     "execution_count": 10,
     "metadata": {},
     "output_type": "execute_result"
    }
   ],
   "source": [
    "response_2"
   ]
  },
  {
   "cell_type": "code",
   "execution_count": 11,
   "metadata": {},
   "outputs": [
    {
     "data": {
      "text/plain": [
       "{'plot': {'line': {'columns': ['Hour 00',\n",
       "    'Hour 01',\n",
       "    'Hour 02',\n",
       "    'Hour 03',\n",
       "    'Hour 04',\n",
       "    'Hour 05',\n",
       "    'Hour 06',\n",
       "    'Hour 07',\n",
       "    'Hour 08',\n",
       "    'Hour 09',\n",
       "    'Hour 10',\n",
       "    'Hour 11',\n",
       "    'Hour 12',\n",
       "    'Hour 13',\n",
       "    'Hour 14',\n",
       "    'Hour 15',\n",
       "    'Hour 16',\n",
       "    'Hour 17',\n",
       "    'Hour 18',\n",
       "    'Hour 19',\n",
       "    'Hour 20',\n",
       "    'Hour 21',\n",
       "    'Hour 22',\n",
       "    'Hour 23'],\n",
       "   'data': [1206.88,\n",
       "    1191.92,\n",
       "    1163.71,\n",
       "    1144.04,\n",
       "    1133.78,\n",
       "    1138.49,\n",
       "    1169.43,\n",
       "    1188.43,\n",
       "    1185.4,\n",
       "    1195.02,\n",
       "    1232.96,\n",
       "    1282.44,\n",
       "    1326.3,\n",
       "    1345.29,\n",
       "    1349.77,\n",
       "    1348.94,\n",
       "    1347.2,\n",
       "    1331.67,\n",
       "    1306.65,\n",
       "    1276.83,\n",
       "    1257.18,\n",
       "    1247.63,\n",
       "    1227.21,\n",
       "    1209.53]}},\n",
       " 'output_of_chain1': 'The average wind generation for a typical day in Ireland in 2022, broken down by hour, is as follows:\\n- **Hour 00**: Average IE Wind Generation: 1206.88, Average NI Wind Generation: 300.22\\n- **Hour 01**: Average IE Wind Generation: 1191.92, Average NI Wind Generation: 298.07\\n- **Hour 02**: Average IE Wind Generation: 1163.71, Average NI Wind Generation: 287.06\\n- **Hour 03**: Average IE Wind Generation: 1144.04, Average NI Wind Generation: 275.03\\n- **Hour 04**: Average IE Wind Generation: 1133.78, Average NI Wind Generation: 270.41\\n- **Hour 05**: Average IE Wind Generation: 1138.49, Average NI Wind Generation: 278.76\\n- **Hour 06**: Average IE Wind Generation: 1169.43, Average NI Wind Generation: 292.88\\n- **Hour 07**: Average IE Wind Generation: 1188.43, Average NI Wind Generation: 303.42\\n- **Hour 08**: Average IE Wind Generation: 1185.40, Average NI Wind Generation: 305.63\\n- **Hour 09**: Average IE Wind Generation: 1195.02, Average NI Wind Generation: 315.83\\n- **Hour 10**: Average IE Wind Generation: 1232.96, Average NI Wind Generation: 329.06\\n- **Hour 11**: Average IE Wind Generation: 1282.44, Average NI Wind Generation: 338.76\\n- **Hour 12**: Average IE Wind Generation: 1326.30, Average NI Wind Generation: 348.24\\n- **Hour 13**: Average IE Wind Generation: 1345.29, Average NI Wind Generation: 349.60\\n- **Hour 14**: Average IE Wind Generation: 1349.77, Average NI Wind Generation: 346.48\\n- **Hour 15**: Average IE Wind Generation: 1348.94, Average NI Wind Generation: 348.42\\n- **Hour 16**: Average IE Wind Generation: 1347.20, Average NI Wind Generation: 351.03\\n- **Hour 17**: Average IE Wind Generation: 1331.67, Average NI Wind Generation: 346.63\\n- **Hour 18**: Average IE Wind Generation: 1306.65, Average NI Wind Generation: 339.78\\n- **Hour 19**: Average IE Wind Generation: 1276.83, Average NI Wind Generation: 331.65\\n- **Hour 20**: Average IE Wind Generation: 1257.18, Average NI Wind Generation: 323.29\\n- **Hour 21**: Average IE Wind Generation: 1247.63, Average NI Wind Generation: 318.08\\n- **Hour 22**: Average IE Wind Generation: 1227.21, Average NI Wind Generation: 311.50\\n- **Hour 23**: Average IE Wind Generation: 1209.53, Average NI Wind Generation: 304.78'}"
      ]
     },
     "execution_count": 11,
     "metadata": {},
     "output_type": "execute_result"
    }
   ],
   "source": [
    "response_3"
   ]
  },
  {
   "cell_type": "code",
   "execution_count": null,
   "metadata": {},
   "outputs": [],
   "source": [
    "\n",
    "plot_info, prompt_info = post_process_chain_response(response_of_chain)\n",
    "# Check if prompt_info has a meaningful response\n",
    "if prompt_info:\n",
    "    print(prompt_info)\n",
    "    st.write(prompt_info)\n",
    "else:\n",
    "    # Provide a default response if prompt_info is empty or None\n",
    "    st.write(\n",
    "        \"Sorry, I cannot answer the question. You may want to rephrase your query or provide more precise details.\"\n",
    "    )\n",
    "\n",
    "# Only attempt to display the plot if plot_info contains data\n",
    "if plot_info:\n",
    "    write_response(plot_info)\n",
    "else:\n",
    "    # Optionally, handle the case where there's no plot data more explicitly\n",
    "    # This might be redundant if the message above is sufficient\n",
    "    st.write(\"Unable to generate plot based on the provided data.\")\n"
   ]
  }
 ],
 "metadata": {
  "kernelspec": {
   "display_name": "base",
   "language": "python",
   "name": "python3"
  },
  "language_info": {
   "codemirror_mode": {
    "name": "ipython",
    "version": 3
   },
   "file_extension": ".py",
   "mimetype": "text/x-python",
   "name": "python",
   "nbconvert_exporter": "python",
   "pygments_lexer": "ipython3",
   "version": "3.10.9"
  }
 },
 "nbformat": 4,
 "nbformat_minor": 2
}
