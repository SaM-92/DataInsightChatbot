{
 "cells": [
  {
   "cell_type": "code",
   "execution_count": 1,
   "metadata": {},
   "outputs": [
    {
     "name": "stdout",
     "output_type": "stream",
     "text": [
      "DATABASE_URL loaded successfully\n",
      "postgres://uf0rv178g9m2jt:p5a4a30d17f5db8a6deea11e0feacb3669d38349234aeaafaa92138b4bbc8280d@c7u1tn6bvvsodf.cluster-czz5s0kz4scl.eu-west-1.rds.amazonaws.com:5432/df95g2gfqmjlvq\n"
     ]
    }
   ],
   "source": [
    "# test_env.py\n",
    "from dotenv import load_dotenv\n",
    "import os\n",
    "\n",
    "# Load environment variables from .env file\n",
    "load_dotenv()\n",
    "\n",
    "# Get the DATABASE_URL from environment variable\n",
    "DATABASE_URL = os.getenv(\"DATABASE_URL\")\n",
    "\n",
    "if DATABASE_URL:\n",
    "    print(\"DATABASE_URL loaded successfully\")\n",
    "    print(DATABASE_URL)\n",
    "else:\n",
    "    print(\"Failed to load DATABASE_URL\")\n"
   ]
  },
  {
   "cell_type": "code",
   "execution_count": 1,
   "metadata": {},
   "outputs": [
    {
     "name": "stdout",
     "output_type": "stream",
     "text": [
      "Tables in the database:\n",
      "energy_data\n"
     ]
    }
   ],
   "source": [
    "# import streamlit as st\n",
    "from sqlalchemy import text\n",
    "\n",
    "from subs.db_connections import connect_to_irish_db\n",
    "\n",
    "# Initialize the database connection\n",
    "db = connect_to_irish_db(cloud=True)\n",
    "\n",
    "# Streamlit app\n",
    "# st.title(\"Irish Power System Data\")\n",
    "\n",
    "# Query the database and display results\n",
    "try:\n",
    "    with db.engine.connect() as connection:\n",
    "        result = connection.execute(text(\"SELECT tablename FROM pg_catalog.pg_tables WHERE schemaname = 'public';\"))\n",
    "        tables = result.fetchall()\n",
    "        print(\"Tables in the database:\")\n",
    "        for table in tables:\n",
    "            print(table[0])\n",
    "except Exception as e:\n",
    "    print(\"Error:\", e)\n"
   ]
  },
  {
   "cell_type": "code",
   "execution_count": 1,
   "metadata": {},
   "outputs": [],
   "source": [
    "from sqlalchemy import create_engine\n",
    "from sqlalchemy.exc import OperationalError\n",
    "from dotenv import load_dotenv\n",
    "import os\n",
    "from subs.db_connections import connect_to_irish_db\n",
    "\n",
    "def test_connection():\n",
    "    engine = connect_to_irish_db()\n",
    "\n",
    "    try:\n",
    "        # Test the connection\n",
    "        with engine.connect() as connection:\n",
    "            result = connection.execute(\"SELECT 1\")\n",
    "            print(\"Connection successful:\", result.fetchone())\n",
    "    except OperationalError as e:\n",
    "        print(\"OperationalError:\", e)\n",
    "    except Exception as e:\n",
    "        print(\"Error:\", e)"
   ]
  },
  {
   "cell_type": "code",
   "execution_count": 2,
   "metadata": {},
   "outputs": [
    {
     "name": "stdout",
     "output_type": "stream",
     "text": [
      "Error: 'SQLDatabase' object has no attribute 'connect'\n"
     ]
    }
   ],
   "source": [
    "test_connection()"
   ]
  },
  {
   "cell_type": "code",
   "execution_count": null,
   "metadata": {},
   "outputs": [],
   "source": []
  }
 ],
 "metadata": {
  "kernelspec": {
   "display_name": "sql_dev_agent",
   "language": "python",
   "name": "python3"
  },
  "language_info": {
   "codemirror_mode": {
    "name": "ipython",
    "version": 3
   },
   "file_extension": ".py",
   "mimetype": "text/x-python",
   "name": "python",
   "nbconvert_exporter": "python",
   "pygments_lexer": "ipython3",
   "version": "3.10.8"
  }
 },
 "nbformat": 4,
 "nbformat_minor": 2
}
