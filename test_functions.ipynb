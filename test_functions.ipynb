{
 "cells": [
  {
   "cell_type": "code",
   "execution_count": 2,
   "metadata": {},
   "outputs": [
    {
     "name": "stdout",
     "output_type": "stream",
     "text": [
      "Current Working Directory:  /Users/saeed/Documents/GitHub/ireland_res_chatbot\n"
     ]
    }
   ],
   "source": [
    "import streamlit as st\n",
    "from langchain.chains import LLMChain, SimpleSequentialChain\n",
    "import pandas as pd\n",
    "import sqlite3\n",
    "import os\n",
    "from dotenv import load_dotenv\n",
    "from langchain_community.utilities import SQLDatabase\n",
    "from langchain_community.agent_toolkits import create_sql_agent\n",
    "from langchain_openai import ChatOpenAI\n",
    "from subs.db_connections import connetc_to_irish_db\n",
    "\n",
    "load_dotenv()\n",
    "OPENAI_API_KEY = os.environ[\"OPENAI_API_KEY\"]\n",
    "\n",
    "# Check current working directory.\n",
    "print(\"Current Working Directory: \", os.getcwd())\n",
    "\n",
    "\n",
    "# #llm = ChatOpenAI(model=\"gpt-3.5-turbo\", temperature=0)\n",
    "llm = ChatOpenAI(model=\"gpt-3.5-turbo\", temperature=0)\n",
    "db = connetc_to_irish_db()\n",
    "\n"
   ]
  },
  {
   "cell_type": "markdown",
   "metadata": {},
   "source": []
  },
  {
   "cell_type": "code",
   "execution_count": 4,
   "metadata": {},
   "outputs": [],
   "source": [
    "from subs.prompts import *\n",
    "\n",
    "\n",
    "\n",
    "# Example formatted prompt\n",
    "prompt_val = invoke_full_prompt(chain_id=\"chain_1\")\n"
   ]
  },
  {
   "cell_type": "code",
   "execution_count": null,
   "metadata": {},
   "outputs": [],
   "source": []
  },
  {
   "cell_type": "code",
   "execution_count": 5,
   "metadata": {},
   "outputs": [
    {
     "data": {
      "text/plain": [
       "ChatPromptTemplate(input_variables=['agent_scratchpad', 'dialect', 'input', 'top_k'], input_types={'agent_scratchpad': typing.List[typing.Union[langchain_core.messages.ai.AIMessage, langchain_core.messages.human.HumanMessage, langchain_core.messages.chat.ChatMessage, langchain_core.messages.system.SystemMessage, langchain_core.messages.function.FunctionMessage, langchain_core.messages.tool.ToolMessage]]}, messages=[SystemMessagePromptTemplate(prompt=FewShotPromptTemplate(input_variables=['dialect', 'top_k'], example_selector=SemanticSimilarityExampleSelector(vectorstore=<langchain_community.vectorstores.faiss.FAISS object at 0x10f6b2b60>, k=5, example_keys=None, input_keys=['input'], vectorstore_kwargs=None), example_prompt=PromptTemplate(input_variables=['input', 'query'], template='User input: {input}\\nSQL query: {query}'), suffix='', prefix='You are an agent designed to interact with a SQL database.\\n        Given an input question, create a syntactically correct {dialect} query to run, then look at the results of the query and return the answer.\\n        Unless the user specifies a specific number of examples they wish to obtain, always limit your query to at most {top_k} results.\\n        You can order the results by a relevant column to return the most interesting examples in the database.\\n        Query for the relevant columns needed to answer the question comprehensively. \\n        In cases where calculations or comparisons across multiple sectors (such as IE and NI) are required,\\n        ensure to include all necessary columns for these calculations. Prioritize efficiency and relevance in your queries.\\n        You have access to tools for interacting with the database.\\n        Only use the given tools. Only use the information returned by the tools to construct your final answer.\\n\\n        You MUST double check your query before executing it. If you get an error while executing a query, rewrite the query and try again.\\n\\n        DO NOT make any DML statements (INSERT, UPDATE, DELETE, DROP etc.) to the database.\\n\\n        If the question does not seem related to the database, just return \"I don\\'t know\" as the answer.\\n\\n        If the question seeks column names, the entire dataset, or appears designed to extract the dataset indirectly, respond with \\'I cannot share these details; however, feel free to ask a specific query.\\n        \\n        Here are some examples of user inputs and their corresponding SQL queries:')), HumanMessagePromptTemplate(prompt=PromptTemplate(input_variables=['input'], template='{input}')), MessagesPlaceholder(variable_name='agent_scratchpad')])"
      ]
     },
     "execution_count": 5,
     "metadata": {},
     "output_type": "execute_result"
    }
   ],
   "source": [
    "prompt_val"
   ]
  },
  {
   "cell_type": "code",
   "execution_count": 3,
   "metadata": {},
   "outputs": [],
   "source": [
    "from subs.agent import sql_agent\n",
    "\n",
    "agent = sql_agent( prompt=prompt_val)\n"
   ]
  },
  {
   "cell_type": "code",
   "execution_count": 4,
   "metadata": {},
   "outputs": [
    {
     "name": "stdout",
     "output_type": "stream",
     "text": [
      "\n",
      "\n",
      "\u001b[1m> Entering new SQL Agent Executor chain...\u001b[0m\n",
      "\u001b[32;1m\u001b[1;3m\n",
      "Invoking: `sql_db_query` with `{'query': \"SELECT AVG(`IE Wind Generation` + `NI Wind Generation`) AS AverageWindGeneration, strftime('%Y-%m', `DateTime`) AS MonthYear FROM energy_data WHERE `DateTime` LIKE '2022%' GROUP BY MonthYear;\"}`\n",
      "\n",
      "\n",
      "\u001b[0m\u001b[36;1m\u001b[1;3m[(1681.7478245967789, '2022-01'), (2776.5118084077367, '2022-02'), (1564.5947624495348, '2022-03'), (1426.8548583333356, '2022-04'), (1428.130300739246, '2022-05'), (1244.942120138891, '2022-06'), (856.9325806451609, '2022-07'), (822.9017184139785, '2022-08'), (1081.6955940972225, '2022-09'), (2047.5043134228179, '2022-10'), (2241.7916909722217, '2022-11'), (1646.4242170698897, '2022-12')]\u001b[0m\u001b[32;1m\u001b[1;3mThe average wind generation in each month in 2022 is as follows:\n",
      "- January 2022: 1681.75\n",
      "- February 2022: 2776.51\n",
      "- March 2022: 1564.59\n",
      "- April 2022: 1426.85\n",
      "- May 2022: 1428.13\n",
      "- June 2022: 1244.94\n",
      "- July 2022: 856.93\n",
      "- August 2022: 822.90\n",
      "- September 2022: 1081.70\n",
      "- October 2022: 2047.50\n",
      "- November 2022: 2241.79\n",
      "- December 2022: 1646.42\u001b[0m\n",
      "\n",
      "\u001b[1m> Finished chain.\u001b[0m\n"
     ]
    },
    {
     "data": {
      "text/plain": [
       "{'input': 'what is average of wind generation in each month in 2022?',\n",
       " 'output': 'The average wind generation in each month in 2022 is as follows:\\n- January 2022: 1681.75\\n- February 2022: 2776.51\\n- March 2022: 1564.59\\n- April 2022: 1426.85\\n- May 2022: 1428.13\\n- June 2022: 1244.94\\n- July 2022: 856.93\\n- August 2022: 822.90\\n- September 2022: 1081.70\\n- October 2022: 2047.50\\n- November 2022: 2241.79\\n- December 2022: 1646.42'}"
      ]
     },
     "execution_count": 4,
     "metadata": {},
     "output_type": "execute_result"
    }
   ],
   "source": [
    "agent.invoke({\"input\": \"what is average of wind generation in each month in 2022?\"})"
   ]
  },
  {
   "cell_type": "code",
   "execution_count": 2,
   "metadata": {},
   "outputs": [
    {
     "name": "stdout",
     "output_type": "stream",
     "text": [
      "System: You are an agent designed to interact with a SQL database.\n",
      "        Given an input question, create a syntactically correct SQLite query to run, then look at the results of the query and return the answer.\n",
      "        Unless the user specifies a specific number of examples they wish to obtain, always limit your query to at most 5 results.\n",
      "        You can order the results by a relevant column to return the most interesting examples in the database.\n",
      "        Query for the relevant columns needed to answer the question comprehensively. \n",
      "        In cases where calculations or comparisons across multiple sectors (such as IE and NI) are required,\n",
      "        ensure to include all necessary columns for these calculations. Prioritize efficiency and relevance in your queries.\n",
      "        You have access to tools for interacting with the database.\n",
      "        Only use the given tools. Only use the information returned by the tools to construct your final answer.\n",
      "\n",
      "        You MUST double check your query before executing it. If you get an error while executing a query, rewrite the query and try again.\n",
      "\n",
      "        DO NOT make any DML statements (INSERT, UPDATE, DELETE, DROP etc.) to the database.\n",
      "\n",
      "        If the question does not seem related to the database, just return \"I don't know\" as the answer.\n",
      "\n",
      "        If the question seeks column names, the entire dataset, or appears designed to extract the dataset indirectly, respond with 'I cannot share these details; however, feel free to ask a specific query.\n",
      "        \n",
      "        Here are some examples of user inputs and their corresponding SQL queries:\n",
      "\n",
      "User input: Can you provide me with the dataset for 2023?\n",
      "SQL query: I cannot share with you this detail; you can, however, ask a specific query related to the data.\n",
      "\n",
      "User input: Can I see the dataset?\n",
      "SQL query: I cannot share with you this detail; you can, however, ask a specific query related to the data.\n",
      "\n",
      "User input: What is the highest System Non-Synchronous Penetration (SNSP) recorded in 2023?\n",
      "SQL query: SELECT MAX(`SNSP`) FROM energy_data WHERE `DateTime` LIKE '2023%';\n",
      "\n",
      "User input: Find the total wind generation for the island of Ireland in February 2023.\n",
      "SQL query: SELECT SUM(`IE Wind Generation` + `NI Wind Generation`) FROM energy_data WHERE `DateTime` LIKE '2023-02%';\n",
      "\n",
      "User input: What columns are there in the energy_data table?\n",
      "SQL query: I cannot share with you this detail; you can, however, ask a specific query related to the data.\n",
      "Human: How many years are there\n"
     ]
    }
   ],
   "source": [
    "# prompt_val.invoke()\n",
    "\n",
    "prompt_val_2 = prompt_val.invoke(\n",
    "    {\n",
    "        \"input\": \"How many years are there\",\n",
    "        \"top_k\": 5,\n",
    "        \"dialect\": \"SQLite\",\n",
    "        \"agent_scratchpad\": [],\n",
    "    }\n",
    ")\n",
    "print(prompt_val_2.to_string())"
   ]
  },
  {
   "cell_type": "code",
   "execution_count": 8,
   "metadata": {},
   "outputs": [
    {
     "data": {
      "text/plain": [
       "{'input': 'daily data for 2023?',\n",
       " 'output': 'I cannot share with you the entire dataset for 2023; however, I can provide you with a sample of daily data for 2023:\\n\\n1. Date: 2023-01-01, Various energy generation and flow values\\n2. Date: 2023-01-02, Various energy generation and flow values\\n3. Date: 2023-01-03, Various energy generation and flow values\\n4. Date: 2023-01-04, Various energy generation and flow values\\n5. Date: 2023-01-05, Various energy generation and flow values\\n6. Date: 2023-01-06, Various energy generation and flow values\\n7. Date: 2023-01-07, Various energy generation and flow values\\n8. Date: 2023-01-08, Various energy generation and flow values\\n9. Date: 2023-01-09, Various energy generation and flow values\\n10. Date: 2023-01-10, Various energy generation and flow values\\n\\nThese are just samples of the daily data for 2023.'}"
      ]
     },
     "execution_count": 8,
     "metadata": {},
     "output_type": "execute_result"
    }
   ],
   "source": [
    "response"
   ]
  },
  {
   "cell_type": "code",
   "execution_count": 1,
   "metadata": {},
   "outputs": [
    {
     "name": "stderr",
     "output_type": "stream",
     "text": [
      "/Users/saeed/anaconda3/lib/python3.10/site-packages/langchain_core/_api/deprecation.py:117: LangChainDeprecationWarning: The function `run` was deprecated in LangChain 0.1.0 and will be removed in 0.2.0. Use invoke instead.\n",
      "  warn_deprecated(\n"
     ]
    },
    {
     "name": "stdout",
     "output_type": "stream",
     "text": [
      "\n",
      "\n",
      "\u001b[1m> Entering new SimpleSequentialChain chain...\u001b[0m\n",
      "\n",
      "\n",
      "\u001b[1m> Entering new SQL Agent Executor chain...\u001b[0m\n",
      "\u001b[32;1m\u001b[1;3m\n",
      "Invoking: `sql_db_query` with `{'query': \"SELECT SUBSTR(`DateTime`, 1, 7) AS Month, AVG(`SNSP`) AS Average_SNSP FROM energy_data WHERE `DateTime` BETWEEN '2022-01-01' AND '2022-03-31' GROUP BY Month;\"}`\n",
      "\n",
      "\n",
      "\u001b[0m\u001b[36;1m\u001b[1;3m[('2022-01', 0.350023051075269), ('2022-02', 0.5431183035714271), ('2022-03', 0.3535211057023637)]\u001b[0m\u001b[32;1m\u001b[1;3mThe System Non-Synchronous Penetration (SNSP) from January to March 2022 per month is as follows:\n",
      "- January 2022: 0.350\n",
      "- February 2022: 0.543\n",
      "- March 2022: 0.354\u001b[0m\n",
      "\n",
      "\u001b[1m> Finished chain.\u001b[0m\n",
      "\u001b[36;1m\u001b[1;3mThe System Non-Synchronous Penetration (SNSP) from January to March 2022 per month is as follows:\n",
      "- January 2022: 0.350\n",
      "- February 2022: 0.543\n",
      "- March 2022: 0.354\u001b[0m\n",
      "\u001b[33;1m\u001b[1;3m{\"plot\":{\"line\": {\"columns\": [\"January\", \"February\", \"March\"], \"data\": [0.350, 0.543, 0.354]}}\n",
      ", \"prompt\": {\"output_of_chain1\": \"The System Non-Synchronous Penetration (SNSP) from January to March 2022 per month is as follows:\\n- January 2022: 0.350\\n- February 2022: 0.543\\n- March 2022: 0.354\"}}\u001b[0m\n",
      "\n",
      "\u001b[1m> Finished chain.\u001b[0m\n"
     ]
    }
   ],
   "source": [
    "from subs.agent import configure_sequential_chain\n",
    "chain_Final = configure_sequential_chain(chain_id_sql = \"chain_1\",chain_id_response_plot = \"chain_2\")\n",
    "\n",
    "response_of_chain = chain_Final.run(\"what is SNSP from January to March 2022 per month?\")"
   ]
  },
  {
   "cell_type": "code",
   "execution_count": 2,
   "metadata": {},
   "outputs": [
    {
     "data": {
      "text/plain": [
       "'{\"plot\":{\"line\": {\"columns\": [\"January\", \"February\", \"March\"], \"data\": [0.350, 0.543, 0.354]}}\\n, \"prompt\": {\"output_of_chain1\": \"The System Non-Synchronous Penetration (SNSP) from January to March 2022 per month is as follows:\\\\n- January 2022: 0.350\\\\n- February 2022: 0.543\\\\n- March 2022: 0.354\"}}'"
      ]
     },
     "execution_count": 2,
     "metadata": {},
     "output_type": "execute_result"
    }
   ],
   "source": [
    "response_of_chain"
   ]
  },
  {
   "cell_type": "code",
   "execution_count": 4,
   "metadata": {},
   "outputs": [
    {
     "data": {
      "text/plain": [
       "{'plot': {'line': {'columns': ['January', 'February', 'March'],\n",
       "   'data': [0.35, 0.543, 0.354]}},\n",
       " 'prompt': {'output_of_chain1': 'The System Non-Synchronous Penetration (SNSP) from January to March 2022 per month is as follows:\\n- January 2022: 0.350\\n- February 2022: 0.543\\n- March 2022: 0.354'}}"
      ]
     },
     "execution_count": 4,
     "metadata": {},
     "output_type": "execute_result"
    }
   ],
   "source": [
    "import json\n",
    "json.loads(response_of_chain)"
   ]
  },
  {
   "cell_type": "code",
   "execution_count": 6,
   "metadata": {},
   "outputs": [],
   "source": [
    "def post_process_chain_response(response_of_chain):\n",
    "\n",
    "    # Convert the response string into a dictionary\n",
    "    response_dict = json.loads(response_of_chain)\n",
    "\n",
    "    # # Access the 'plot' part of the response\n",
    "    plot_info = response_dict[\"plot\"]\n",
    "\n",
    "    # # Access the 'prompt' part of the response\n",
    "    prompt_info = response_dict[\"prompt\"]\n",
    "\n",
    "    return plot_info, prompt_info"
   ]
  },
  {
   "cell_type": "code",
   "execution_count": 7,
   "metadata": {},
   "outputs": [],
   "source": [
    "# from subs.post_processing import post_process_chain_response\n",
    "\n",
    "plot_info, prompt_info = post_process_chain_response(response_of_chain)"
   ]
  },
  {
   "cell_type": "code",
   "execution_count": 8,
   "metadata": {},
   "outputs": [
    {
     "data": {
      "text/plain": [
       "{'line': {'columns': ['January', 'February', 'March'],\n",
       "  'data': [0.35, 0.543, 0.354]}}"
      ]
     },
     "execution_count": 8,
     "metadata": {},
     "output_type": "execute_result"
    }
   ],
   "source": [
    "plot_info"
   ]
  },
  {
   "cell_type": "code",
   "execution_count": 10,
   "metadata": {},
   "outputs": [
    {
     "data": {
      "text/plain": [
       "'The System Non-Synchronous Penetration (SNSP) from January to March 2022 per month is as follows:\\n- January 2022: 0.350\\n- February 2022: 0.543\\n- March 2022: 0.354'"
      ]
     },
     "execution_count": 10,
     "metadata": {},
     "output_type": "execute_result"
    }
   ],
   "source": [
    "prompt_info['output_of_chain1']"
   ]
  },
  {
   "cell_type": "code",
   "execution_count": null,
   "metadata": {},
   "outputs": [],
   "source": []
  }
 ],
 "metadata": {
  "kernelspec": {
   "display_name": "base",
   "language": "python",
   "name": "python3"
  },
  "language_info": {
   "codemirror_mode": {
    "name": "ipython",
    "version": 3
   },
   "file_extension": ".py",
   "mimetype": "text/x-python",
   "name": "python",
   "nbconvert_exporter": "python",
   "pygments_lexer": "ipython3",
   "version": "3.10.9"
  }
 },
 "nbformat": 4,
 "nbformat_minor": 2
}
